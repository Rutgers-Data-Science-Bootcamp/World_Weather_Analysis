{
 "cells": [
  {
   "cell_type": "markdown",
   "id": "443d22fe",
   "metadata": {},
   "source": [
    "# 6.5 2 Create Heatmaps for Weather Parameters"
   ]
  },
  {
   "cell_type": "code",
   "execution_count": 1,
   "id": "61a14d87",
   "metadata": {},
   "outputs": [],
   "source": [
    "# Import the dependencies.\n",
    "import pandas as pd\n",
    "import gmaps\n",
    "import requests\n",
    "# Import the API key.\n",
    "from config import g_key"
   ]
  },
  {
   "cell_type": "code",
   "execution_count": 2,
   "id": "556157ac",
   "metadata": {},
   "outputs": [
    {
     "data": {
      "text/html": [
       "<div>\n",
       "<style scoped>\n",
       "    .dataframe tbody tr th:only-of-type {\n",
       "        vertical-align: middle;\n",
       "    }\n",
       "\n",
       "    .dataframe tbody tr th {\n",
       "        vertical-align: top;\n",
       "    }\n",
       "\n",
       "    .dataframe thead th {\n",
       "        text-align: right;\n",
       "    }\n",
       "</style>\n",
       "<table border=\"1\" class=\"dataframe\">\n",
       "  <thead>\n",
       "    <tr style=\"text-align: right;\">\n",
       "      <th></th>\n",
       "      <th>City_ID</th>\n",
       "      <th>City</th>\n",
       "      <th>Country</th>\n",
       "      <th>Date</th>\n",
       "      <th>Lat</th>\n",
       "      <th>Lng</th>\n",
       "      <th>Max Temp</th>\n",
       "      <th>Humidity</th>\n",
       "      <th>Cloudiness</th>\n",
       "      <th>Wind Speed</th>\n",
       "    </tr>\n",
       "  </thead>\n",
       "  <tbody>\n",
       "    <tr>\n",
       "      <th>0</th>\n",
       "      <td>0</td>\n",
       "      <td>Kavaratti</td>\n",
       "      <td>IN</td>\n",
       "      <td>2022-07-15 04:05:28</td>\n",
       "      <td>10.5669</td>\n",
       "      <td>72.6420</td>\n",
       "      <td>82.09</td>\n",
       "      <td>79</td>\n",
       "      <td>71</td>\n",
       "      <td>20.33</td>\n",
       "    </tr>\n",
       "    <tr>\n",
       "      <th>1</th>\n",
       "      <td>1</td>\n",
       "      <td>Krasnolesnyy</td>\n",
       "      <td>RU</td>\n",
       "      <td>2022-07-15 04:05:28</td>\n",
       "      <td>51.8807</td>\n",
       "      <td>39.5877</td>\n",
       "      <td>60.80</td>\n",
       "      <td>85</td>\n",
       "      <td>4</td>\n",
       "      <td>9.69</td>\n",
       "    </tr>\n",
       "    <tr>\n",
       "      <th>2</th>\n",
       "      <td>2</td>\n",
       "      <td>Rikitea</td>\n",
       "      <td>PF</td>\n",
       "      <td>2022-07-15 04:05:28</td>\n",
       "      <td>-23.1203</td>\n",
       "      <td>-134.9692</td>\n",
       "      <td>66.90</td>\n",
       "      <td>79</td>\n",
       "      <td>100</td>\n",
       "      <td>14.36</td>\n",
       "    </tr>\n",
       "    <tr>\n",
       "      <th>3</th>\n",
       "      <td>3</td>\n",
       "      <td>Onega</td>\n",
       "      <td>RU</td>\n",
       "      <td>2022-07-15 04:05:29</td>\n",
       "      <td>63.9061</td>\n",
       "      <td>38.1404</td>\n",
       "      <td>63.91</td>\n",
       "      <td>68</td>\n",
       "      <td>9</td>\n",
       "      <td>3.11</td>\n",
       "    </tr>\n",
       "    <tr>\n",
       "      <th>4</th>\n",
       "      <td>4</td>\n",
       "      <td>Vostok</td>\n",
       "      <td>RU</td>\n",
       "      <td>2022-07-15 04:05:29</td>\n",
       "      <td>46.4856</td>\n",
       "      <td>135.8833</td>\n",
       "      <td>66.92</td>\n",
       "      <td>69</td>\n",
       "      <td>98</td>\n",
       "      <td>11.03</td>\n",
       "    </tr>\n",
       "  </tbody>\n",
       "</table>\n",
       "</div>"
      ],
      "text/plain": [
       "   City_ID          City Country                 Date      Lat       Lng  \\\n",
       "0        0     Kavaratti      IN  2022-07-15 04:05:28  10.5669   72.6420   \n",
       "1        1  Krasnolesnyy      RU  2022-07-15 04:05:28  51.8807   39.5877   \n",
       "2        2       Rikitea      PF  2022-07-15 04:05:28 -23.1203 -134.9692   \n",
       "3        3         Onega      RU  2022-07-15 04:05:29  63.9061   38.1404   \n",
       "4        4        Vostok      RU  2022-07-15 04:05:29  46.4856  135.8833   \n",
       "\n",
       "   Max Temp  Humidity  Cloudiness  Wind Speed  \n",
       "0     82.09        79          71       20.33  \n",
       "1     60.80        85           4        9.69  \n",
       "2     66.90        79         100       14.36  \n",
       "3     63.91        68           9        3.11  \n",
       "4     66.92        69          98       11.03  "
      ]
     },
     "execution_count": 2,
     "metadata": {},
     "output_type": "execute_result"
    }
   ],
   "source": [
    "# Store the CSV you saved created in part one into a DataFrame.\n",
    "city_data_df = pd.read_csv(\"weather_data/cities.csv\")\n",
    "city_data_df.head()"
   ]
  },
  {
   "cell_type": "code",
   "execution_count": 3,
   "id": "6fcec910",
   "metadata": {},
   "outputs": [
    {
     "data": {
      "text/plain": [
       "City_ID         int64\n",
       "City           object\n",
       "Country        object\n",
       "Date           object\n",
       "Lat           float64\n",
       "Lng           float64\n",
       "Max Temp      float64\n",
       "Humidity        int64\n",
       "Cloudiness      int64\n",
       "Wind Speed    float64\n",
       "dtype: object"
      ]
     },
     "execution_count": 3,
     "metadata": {},
     "output_type": "execute_result"
    }
   ],
   "source": [
    "city_data_df.dtypes"
   ]
  },
  {
   "cell_type": "markdown",
   "id": "1551b5fa",
   "metadata": {},
   "source": [
    "### Create a Maximum Temperature Heatmap"
   ]
  },
  {
   "cell_type": "code",
   "execution_count": 4,
   "id": "71ec4537",
   "metadata": {},
   "outputs": [],
   "source": [
    "# Configure gmaps to use your Google API key.\n",
    "gmaps.configure(api_key=g_key)"
   ]
  },
  {
   "cell_type": "code",
   "execution_count": 5,
   "id": "cab29b10",
   "metadata": {},
   "outputs": [],
   "source": [
    "# Get the maximum temperature.\n",
    "max_temp = city_data_df[\"Max Temp\"]\n",
    "temps = []\n",
    "for temp in max_temp:\n",
    "    temps.append(max(temp, 0))"
   ]
  },
  {
   "cell_type": "code",
   "execution_count": 6,
   "id": "3e6bd9ba",
   "metadata": {},
   "outputs": [
    {
     "data": {
      "application/vnd.jupyter.widget-view+json": {
       "model_id": "174a5ed0cd1c433c9bc1ed2b893695ae",
       "version_major": 2,
       "version_minor": 0
      },
      "text/plain": [
       "Figure(layout=FigureLayout(height='420px'))"
      ]
     },
     "metadata": {},
     "output_type": "display_data"
    }
   ],
   "source": [
    "# Heatmap of temperature\n",
    "# Get the latitude and longitude.\n",
    "locations = city_data_df[[\"Lat\", \"Lng\"]]\n",
    "# Get the maximum temperature.\n",
    "max_temp = city_data_df[\"Max Temp\"]\n",
    "# Assign the figure variable.\n",
    "fig = gmaps.figure()\n",
    "# Assign the heatmap variable.\n",
    "heat_layer = gmaps.heatmap_layer(locations, weights=[max(temp, 0) for temp in max_temp], dissipating=False, max_intensity=300, point_radius=4)\n",
    "# Add the heatmap layer.\n",
    "fig.add_layer(heat_layer)\n",
    "# Call the figure to plot the data.\n",
    "fig"
   ]
  },
  {
   "cell_type": "markdown",
   "id": "f4ea7b41",
   "metadata": {},
   "source": [
    "### Adjust Heatmap Zoom, Intensity, and Point Radius"
   ]
  },
  {
   "cell_type": "code",
   "execution_count": 7,
   "id": "6c9320be",
   "metadata": {},
   "outputs": [],
   "source": [
    "fig = gmaps.figure(center=(30.0, 31.0), zoom_level=1.5)"
   ]
  },
  {
   "cell_type": "code",
   "execution_count": 8,
   "id": "96f36dd8",
   "metadata": {
    "scrolled": true
   },
   "outputs": [
    {
     "data": {
      "application/vnd.jupyter.widget-view+json": {
       "model_id": "71ed53ac4e89404c9a631a6685e643a8",
       "version_major": 2,
       "version_minor": 0
      },
      "text/plain": [
       "Figure(layout=FigureLayout(height='420px'))"
      ]
     },
     "metadata": {},
     "output_type": "display_data"
    }
   ],
   "source": [
    "fig.add_layer(heat_layer)\n",
    "fig"
   ]
  },
  {
   "cell_type": "markdown",
   "id": "eb0189b9",
   "metadata": {},
   "source": [
    "### Create a Percent Humidity Heatmap"
   ]
  },
  {
   "cell_type": "code",
   "execution_count": 9,
   "id": "3643bbd6",
   "metadata": {},
   "outputs": [
    {
     "data": {
      "application/vnd.jupyter.widget-view+json": {
       "model_id": "51b68b5023104c18ba077f1fa0b88462",
       "version_major": 2,
       "version_minor": 0
      },
      "text/plain": [
       "Figure(layout=FigureLayout(height='420px'))"
      ]
     },
     "metadata": {},
     "output_type": "display_data"
    }
   ],
   "source": [
    "# Heatmap of percent humidity\n",
    "locations = city_data_df[[\"Lat\", \"Lng\"]]\n",
    "humidity = city_data_df[\"Humidity\"]\n",
    "fig = gmaps.figure(center=(30.0, 31.0), zoom_level=1.5)\n",
    "heat_layer = gmaps.heatmap_layer(locations, weights=humidity, dissipating=False, max_intensity=300, point_radius=4)\n",
    "\n",
    "fig.add_layer(heat_layer)\n",
    "# Call the figure to plot the data.\n",
    "fig"
   ]
  },
  {
   "cell_type": "markdown",
   "id": "81ac3235",
   "metadata": {},
   "source": [
    "### Create a Wind Speed Heatmap"
   ]
  },
  {
   "cell_type": "code",
   "execution_count": 10,
   "id": "136e589a",
   "metadata": {},
   "outputs": [
    {
     "data": {
      "application/vnd.jupyter.widget-view+json": {
       "model_id": "627fa1843df940f38e912c1e303e6278",
       "version_major": 2,
       "version_minor": 0
      },
      "text/plain": [
       "Figure(layout=FigureLayout(height='420px'))"
      ]
     },
     "metadata": {},
     "output_type": "display_data"
    }
   ],
   "source": [
    "# Heatmap of percent humidity\n",
    "locations = city_data_df[[\"Lat\", \"Lng\"]]\n",
    "Wind_speed = city_data_df[\"Wind Speed\"]\n",
    "fig = gmaps.figure(center=(30.0, 31.0), zoom_level=1.5)\n",
    "heat_layer = gmaps.heatmap_layer(locations, weights=Wind_speed, dissipating=False, max_intensity=300, point_radius=4)\n",
    "\n",
    "fig.add_layer(heat_layer)\n",
    "# Call the figure to plot the data.\n",
    "fig"
   ]
  },
  {
   "cell_type": "markdown",
   "id": "9e69f2ff",
   "metadata": {},
   "source": [
    "# 6.5.3 Get Vacation Criteria"
   ]
  },
  {
   "cell_type": "code",
   "execution_count": 11,
   "id": "fdd4024c",
   "metadata": {},
   "outputs": [],
   "source": [
    "## Recall that you use the input() statement to prompt a user to enter information. To convert the input to a floating-point decimal number, wrap the input() statement with the float() method, like this: float(input())."
   ]
  },
  {
   "cell_type": "code",
   "execution_count": 12,
   "id": "8a45f58b",
   "metadata": {},
   "outputs": [
    {
     "name": "stdout",
     "output_type": "stream",
     "text": [
      "What is the minimum temperature you would like for your trip? 75\n",
      "What is the maximum temperature you would like for your trip? 90\n"
     ]
    }
   ],
   "source": [
    "# Ask the customer to add a minimum and maximum temperature value.\n",
    "min_temp = float(input(\"What is the minimum temperature you would like for your trip? \"))\n",
    "max_temp = float(input(\"What is the maximum temperature you would like for your trip? \"))"
   ]
  },
  {
   "cell_type": "code",
   "execution_count": 13,
   "id": "4357b746",
   "metadata": {},
   "outputs": [
    {
     "data": {
      "text/html": [
       "<div>\n",
       "<style scoped>\n",
       "    .dataframe tbody tr th:only-of-type {\n",
       "        vertical-align: middle;\n",
       "    }\n",
       "\n",
       "    .dataframe tbody tr th {\n",
       "        vertical-align: top;\n",
       "    }\n",
       "\n",
       "    .dataframe thead th {\n",
       "        text-align: right;\n",
       "    }\n",
       "</style>\n",
       "<table border=\"1\" class=\"dataframe\">\n",
       "  <thead>\n",
       "    <tr style=\"text-align: right;\">\n",
       "      <th></th>\n",
       "      <th>City_ID</th>\n",
       "      <th>City</th>\n",
       "      <th>Country</th>\n",
       "      <th>Date</th>\n",
       "      <th>Lat</th>\n",
       "      <th>Lng</th>\n",
       "      <th>Max Temp</th>\n",
       "      <th>Humidity</th>\n",
       "      <th>Cloudiness</th>\n",
       "      <th>Wind Speed</th>\n",
       "    </tr>\n",
       "  </thead>\n",
       "  <tbody>\n",
       "    <tr>\n",
       "      <th>0</th>\n",
       "      <td>0</td>\n",
       "      <td>Kavaratti</td>\n",
       "      <td>IN</td>\n",
       "      <td>2022-07-15 04:05:28</td>\n",
       "      <td>10.5669</td>\n",
       "      <td>72.6420</td>\n",
       "      <td>82.09</td>\n",
       "      <td>79</td>\n",
       "      <td>71</td>\n",
       "      <td>20.33</td>\n",
       "    </tr>\n",
       "    <tr>\n",
       "      <th>7</th>\n",
       "      <td>7</td>\n",
       "      <td>Havelock</td>\n",
       "      <td>US</td>\n",
       "      <td>2022-07-15 04:05:30</td>\n",
       "      <td>34.8791</td>\n",
       "      <td>-76.9013</td>\n",
       "      <td>82.38</td>\n",
       "      <td>91</td>\n",
       "      <td>0</td>\n",
       "      <td>5.75</td>\n",
       "    </tr>\n",
       "    <tr>\n",
       "      <th>15</th>\n",
       "      <td>15</td>\n",
       "      <td>Kieta</td>\n",
       "      <td>PG</td>\n",
       "      <td>2022-07-15 04:05:33</td>\n",
       "      <td>-6.2167</td>\n",
       "      <td>155.6333</td>\n",
       "      <td>83.46</td>\n",
       "      <td>72</td>\n",
       "      <td>88</td>\n",
       "      <td>7.56</td>\n",
       "    </tr>\n",
       "    <tr>\n",
       "      <th>17</th>\n",
       "      <td>17</td>\n",
       "      <td>Vaini</td>\n",
       "      <td>TO</td>\n",
       "      <td>2022-07-15 04:05:34</td>\n",
       "      <td>-21.2000</td>\n",
       "      <td>-175.2000</td>\n",
       "      <td>78.96</td>\n",
       "      <td>94</td>\n",
       "      <td>40</td>\n",
       "      <td>6.91</td>\n",
       "    </tr>\n",
       "    <tr>\n",
       "      <th>22</th>\n",
       "      <td>22</td>\n",
       "      <td>Dingle</td>\n",
       "      <td>PH</td>\n",
       "      <td>2022-07-15 04:05:36</td>\n",
       "      <td>10.9995</td>\n",
       "      <td>122.6711</td>\n",
       "      <td>86.59</td>\n",
       "      <td>70</td>\n",
       "      <td>88</td>\n",
       "      <td>4.59</td>\n",
       "    </tr>\n",
       "    <tr>\n",
       "      <th>26</th>\n",
       "      <td>26</td>\n",
       "      <td>Yuci</td>\n",
       "      <td>CN</td>\n",
       "      <td>2022-07-15 04:05:37</td>\n",
       "      <td>37.6803</td>\n",
       "      <td>112.7319</td>\n",
       "      <td>82.15</td>\n",
       "      <td>65</td>\n",
       "      <td>93</td>\n",
       "      <td>4.47</td>\n",
       "    </tr>\n",
       "    <tr>\n",
       "      <th>28</th>\n",
       "      <td>28</td>\n",
       "      <td>Wenatchee</td>\n",
       "      <td>US</td>\n",
       "      <td>2022-07-15 04:04:00</td>\n",
       "      <td>47.4235</td>\n",
       "      <td>-120.3103</td>\n",
       "      <td>82.69</td>\n",
       "      <td>34</td>\n",
       "      <td>0</td>\n",
       "      <td>6.91</td>\n",
       "    </tr>\n",
       "    <tr>\n",
       "      <th>31</th>\n",
       "      <td>31</td>\n",
       "      <td>Georgetown</td>\n",
       "      <td>MY</td>\n",
       "      <td>2022-07-15 04:05:39</td>\n",
       "      <td>5.4112</td>\n",
       "      <td>100.3354</td>\n",
       "      <td>87.73</td>\n",
       "      <td>74</td>\n",
       "      <td>20</td>\n",
       "      <td>3.44</td>\n",
       "    </tr>\n",
       "    <tr>\n",
       "      <th>32</th>\n",
       "      <td>32</td>\n",
       "      <td>Mana</td>\n",
       "      <td>GF</td>\n",
       "      <td>2022-07-15 04:05:39</td>\n",
       "      <td>5.6592</td>\n",
       "      <td>-53.7767</td>\n",
       "      <td>76.05</td>\n",
       "      <td>91</td>\n",
       "      <td>92</td>\n",
       "      <td>7.18</td>\n",
       "    </tr>\n",
       "    <tr>\n",
       "      <th>34</th>\n",
       "      <td>34</td>\n",
       "      <td>Sterling</td>\n",
       "      <td>US</td>\n",
       "      <td>2022-07-15 04:05:40</td>\n",
       "      <td>39.0062</td>\n",
       "      <td>-77.4286</td>\n",
       "      <td>76.12</td>\n",
       "      <td>88</td>\n",
       "      <td>40</td>\n",
       "      <td>3.44</td>\n",
       "    </tr>\n",
       "  </tbody>\n",
       "</table>\n",
       "</div>"
      ],
      "text/plain": [
       "    City_ID        City Country                 Date      Lat       Lng  \\\n",
       "0         0   Kavaratti      IN  2022-07-15 04:05:28  10.5669   72.6420   \n",
       "7         7    Havelock      US  2022-07-15 04:05:30  34.8791  -76.9013   \n",
       "15       15       Kieta      PG  2022-07-15 04:05:33  -6.2167  155.6333   \n",
       "17       17       Vaini      TO  2022-07-15 04:05:34 -21.2000 -175.2000   \n",
       "22       22      Dingle      PH  2022-07-15 04:05:36  10.9995  122.6711   \n",
       "26       26        Yuci      CN  2022-07-15 04:05:37  37.6803  112.7319   \n",
       "28       28   Wenatchee      US  2022-07-15 04:04:00  47.4235 -120.3103   \n",
       "31       31  Georgetown      MY  2022-07-15 04:05:39   5.4112  100.3354   \n",
       "32       32        Mana      GF  2022-07-15 04:05:39   5.6592  -53.7767   \n",
       "34       34    Sterling      US  2022-07-15 04:05:40  39.0062  -77.4286   \n",
       "\n",
       "    Max Temp  Humidity  Cloudiness  Wind Speed  \n",
       "0      82.09        79          71       20.33  \n",
       "7      82.38        91           0        5.75  \n",
       "15     83.46        72          88        7.56  \n",
       "17     78.96        94          40        6.91  \n",
       "22     86.59        70          88        4.59  \n",
       "26     82.15        65          93        4.47  \n",
       "28     82.69        34           0        6.91  \n",
       "31     87.73        74          20        3.44  \n",
       "32     76.05        91          92        7.18  \n",
       "34     76.12        88          40        3.44  "
      ]
     },
     "execution_count": 13,
     "metadata": {},
     "output_type": "execute_result"
    }
   ],
   "source": [
    "# Filter the dataset to find the cities that fit the criteria.\n",
    "preferred_cities_df = city_data_df.loc[(city_data_df[\"Max Temp\"] <= max_temp) & \\\n",
    "                                       (city_data_df[\"Max Temp\"] >= min_temp)]\n",
    "preferred_cities_df.head(10)"
   ]
  },
  {
   "cell_type": "code",
   "execution_count": 14,
   "id": "5859eb96",
   "metadata": {},
   "outputs": [
    {
     "data": {
      "text/plain": [
       "City_ID       180\n",
       "City          180\n",
       "Country       180\n",
       "Date          180\n",
       "Lat           180\n",
       "Lng           180\n",
       "Max Temp      180\n",
       "Humidity      180\n",
       "Cloudiness    180\n",
       "Wind Speed    180\n",
       "dtype: int64"
      ]
     },
     "execution_count": 14,
     "metadata": {},
     "output_type": "execute_result"
    }
   ],
   "source": [
    "preferred_cities_df.count()"
   ]
  },
  {
   "cell_type": "code",
   "execution_count": 15,
   "id": "191a59e4",
   "metadata": {},
   "outputs": [
    {
     "data": {
      "text/plain": [
       "City_ID       0\n",
       "City          0\n",
       "Country       0\n",
       "Date          0\n",
       "Lat           0\n",
       "Lng           0\n",
       "Max Temp      0\n",
       "Humidity      0\n",
       "Cloudiness    0\n",
       "Wind Speed    0\n",
       "dtype: int64"
      ]
     },
     "execution_count": 15,
     "metadata": {},
     "output_type": "execute_result"
    }
   ],
   "source": [
    "preferred_cities_df.isnull().sum()"
   ]
  },
  {
   "cell_type": "code",
   "execution_count": 16,
   "id": "1795d835",
   "metadata": {},
   "outputs": [
    {
     "data": {
      "text/plain": [
       "City_ID       180\n",
       "City          180\n",
       "Country       180\n",
       "Date          180\n",
       "Lat           180\n",
       "Lng           180\n",
       "Max Temp      180\n",
       "Humidity      180\n",
       "Cloudiness    180\n",
       "Wind Speed    180\n",
       "dtype: int64"
      ]
     },
     "execution_count": 16,
     "metadata": {},
     "output_type": "execute_result"
    }
   ],
   "source": [
    "preferred_cities_df.notnull().sum()"
   ]
  },
  {
   "cell_type": "markdown",
   "id": "6b6a9d66",
   "metadata": {},
   "source": [
    "# 6.5.4 Map Vacation Criteria"
   ]
  },
  {
   "cell_type": "code",
   "execution_count": 17,
   "id": "0362985c",
   "metadata": {},
   "outputs": [
    {
     "data": {
      "text/html": [
       "<div>\n",
       "<style scoped>\n",
       "    .dataframe tbody tr th:only-of-type {\n",
       "        vertical-align: middle;\n",
       "    }\n",
       "\n",
       "    .dataframe tbody tr th {\n",
       "        vertical-align: top;\n",
       "    }\n",
       "\n",
       "    .dataframe thead th {\n",
       "        text-align: right;\n",
       "    }\n",
       "</style>\n",
       "<table border=\"1\" class=\"dataframe\">\n",
       "  <thead>\n",
       "    <tr style=\"text-align: right;\">\n",
       "      <th></th>\n",
       "      <th>City</th>\n",
       "      <th>Country</th>\n",
       "      <th>Max Temp</th>\n",
       "      <th>Lat</th>\n",
       "      <th>Lng</th>\n",
       "      <th>Hotel Name</th>\n",
       "    </tr>\n",
       "  </thead>\n",
       "  <tbody>\n",
       "    <tr>\n",
       "      <th>0</th>\n",
       "      <td>Kavaratti</td>\n",
       "      <td>IN</td>\n",
       "      <td>82.09</td>\n",
       "      <td>10.5669</td>\n",
       "      <td>72.6420</td>\n",
       "      <td></td>\n",
       "    </tr>\n",
       "    <tr>\n",
       "      <th>7</th>\n",
       "      <td>Havelock</td>\n",
       "      <td>US</td>\n",
       "      <td>82.38</td>\n",
       "      <td>34.8791</td>\n",
       "      <td>-76.9013</td>\n",
       "      <td></td>\n",
       "    </tr>\n",
       "    <tr>\n",
       "      <th>15</th>\n",
       "      <td>Kieta</td>\n",
       "      <td>PG</td>\n",
       "      <td>83.46</td>\n",
       "      <td>-6.2167</td>\n",
       "      <td>155.6333</td>\n",
       "      <td></td>\n",
       "    </tr>\n",
       "    <tr>\n",
       "      <th>17</th>\n",
       "      <td>Vaini</td>\n",
       "      <td>TO</td>\n",
       "      <td>78.96</td>\n",
       "      <td>-21.2000</td>\n",
       "      <td>-175.2000</td>\n",
       "      <td></td>\n",
       "    </tr>\n",
       "    <tr>\n",
       "      <th>22</th>\n",
       "      <td>Dingle</td>\n",
       "      <td>PH</td>\n",
       "      <td>86.59</td>\n",
       "      <td>10.9995</td>\n",
       "      <td>122.6711</td>\n",
       "      <td></td>\n",
       "    </tr>\n",
       "    <tr>\n",
       "      <th>26</th>\n",
       "      <td>Yuci</td>\n",
       "      <td>CN</td>\n",
       "      <td>82.15</td>\n",
       "      <td>37.6803</td>\n",
       "      <td>112.7319</td>\n",
       "      <td></td>\n",
       "    </tr>\n",
       "    <tr>\n",
       "      <th>28</th>\n",
       "      <td>Wenatchee</td>\n",
       "      <td>US</td>\n",
       "      <td>82.69</td>\n",
       "      <td>47.4235</td>\n",
       "      <td>-120.3103</td>\n",
       "      <td></td>\n",
       "    </tr>\n",
       "    <tr>\n",
       "      <th>31</th>\n",
       "      <td>Georgetown</td>\n",
       "      <td>MY</td>\n",
       "      <td>87.73</td>\n",
       "      <td>5.4112</td>\n",
       "      <td>100.3354</td>\n",
       "      <td></td>\n",
       "    </tr>\n",
       "    <tr>\n",
       "      <th>32</th>\n",
       "      <td>Mana</td>\n",
       "      <td>GF</td>\n",
       "      <td>76.05</td>\n",
       "      <td>5.6592</td>\n",
       "      <td>-53.7767</td>\n",
       "      <td></td>\n",
       "    </tr>\n",
       "    <tr>\n",
       "      <th>34</th>\n",
       "      <td>Sterling</td>\n",
       "      <td>US</td>\n",
       "      <td>76.12</td>\n",
       "      <td>39.0062</td>\n",
       "      <td>-77.4286</td>\n",
       "      <td></td>\n",
       "    </tr>\n",
       "  </tbody>\n",
       "</table>\n",
       "</div>"
      ],
      "text/plain": [
       "          City Country  Max Temp      Lat       Lng Hotel Name\n",
       "0    Kavaratti      IN     82.09  10.5669   72.6420           \n",
       "7     Havelock      US     82.38  34.8791  -76.9013           \n",
       "15       Kieta      PG     83.46  -6.2167  155.6333           \n",
       "17       Vaini      TO     78.96 -21.2000 -175.2000           \n",
       "22      Dingle      PH     86.59  10.9995  122.6711           \n",
       "26        Yuci      CN     82.15  37.6803  112.7319           \n",
       "28   Wenatchee      US     82.69  47.4235 -120.3103           \n",
       "31  Georgetown      MY     87.73   5.4112  100.3354           \n",
       "32        Mana      GF     76.05   5.6592  -53.7767           \n",
       "34    Sterling      US     76.12  39.0062  -77.4286           "
      ]
     },
     "execution_count": 17,
     "metadata": {},
     "output_type": "execute_result"
    }
   ],
   "source": [
    "# Create DataFrame called hotel_df to store hotel names along with city, country, max temp, and coordinates.\n",
    "\n",
    "#Get Travel Destinations\n",
    "hotel_df = preferred_cities_df[[\"City\", \"Country\", \"Max Temp\", \"Lat\", \"Lng\"]].copy()\n",
    "hotel_df[\"Hotel Name\"] = \"\"\n",
    "hotel_df.head(10)"
   ]
  },
  {
   "cell_type": "code",
   "execution_count": 18,
   "id": "cbe3b4b6",
   "metadata": {},
   "outputs": [],
   "source": [
    "# Set parameters to search for a hotel.\n",
    "params = {\n",
    "    \"radius\": 5000,\n",
    "    \"type\": \"lodging\",\n",
    "    \"key\": g_key\n",
    "}"
   ]
  },
  {
   "cell_type": "markdown",
   "id": "87400dfa",
   "metadata": {},
   "source": [
    "### Iterate Through hotel_df DataFrame"
   ]
  },
  {
   "cell_type": "code",
   "execution_count": 19,
   "id": "aad65671",
   "metadata": {},
   "outputs": [
    {
     "name": "stdout",
     "output_type": "stream",
     "text": [
      "Hotel not found... skipping.\n",
      "Hotel not found... skipping.\n",
      "Hotel not found... skipping.\n",
      "Hotel not found... skipping.\n",
      "Hotel not found... skipping.\n",
      "Hotel not found... skipping.\n",
      "Hotel not found... skipping.\n",
      "Hotel not found... skipping.\n",
      "Hotel not found... skipping.\n",
      "Hotel not found... skipping.\n",
      "Hotel not found... skipping.\n"
     ]
    }
   ],
   "source": [
    "# Iterate through the DataFrame.\n",
    "for index, row in hotel_df.iterrows():\n",
    "    # Get the latitude and longitude.\n",
    "    lat = row[\"Lat\"]\n",
    "    lng = row[\"Lng\"]\n",
    "\n",
    "    # Add the latitude and longitude to location key for the params dictionary.\n",
    "    params[\"location\"] = f\"{lat},{lng}\"\n",
    "\n",
    "    # Use the search term: \"lodging\" and our latitude and longitude.\n",
    "    base_url = \"https://maps.googleapis.com/maps/api/place/nearbysearch/json\"\n",
    "    # Make request and get the JSON data from the search.\n",
    "    hotels = requests.get(base_url, params=params).json()\n",
    "    # Grab the first hotel from the results and store the name.\n",
    "    try:\n",
    "        hotel_df.loc[index, \"Hotel Name\"] = hotels[\"results\"][0][\"name\"]\n",
    "    except (IndexError):\n",
    "        print(\"Hotel not found... skipping.\")\n"
   ]
  },
  {
   "cell_type": "code",
   "execution_count": 20,
   "id": "215f06c9",
   "metadata": {},
   "outputs": [
    {
     "data": {
      "text/html": [
       "<div>\n",
       "<style scoped>\n",
       "    .dataframe tbody tr th:only-of-type {\n",
       "        vertical-align: middle;\n",
       "    }\n",
       "\n",
       "    .dataframe tbody tr th {\n",
       "        vertical-align: top;\n",
       "    }\n",
       "\n",
       "    .dataframe thead th {\n",
       "        text-align: right;\n",
       "    }\n",
       "</style>\n",
       "<table border=\"1\" class=\"dataframe\">\n",
       "  <thead>\n",
       "    <tr style=\"text-align: right;\">\n",
       "      <th></th>\n",
       "      <th>City</th>\n",
       "      <th>Country</th>\n",
       "      <th>Max Temp</th>\n",
       "      <th>Lat</th>\n",
       "      <th>Lng</th>\n",
       "      <th>Hotel Name</th>\n",
       "    </tr>\n",
       "  </thead>\n",
       "  <tbody>\n",
       "    <tr>\n",
       "      <th>0</th>\n",
       "      <td>Kavaratti</td>\n",
       "      <td>IN</td>\n",
       "      <td>82.09</td>\n",
       "      <td>10.5669</td>\n",
       "      <td>72.6420</td>\n",
       "      <td>Green leaf</td>\n",
       "    </tr>\n",
       "    <tr>\n",
       "      <th>7</th>\n",
       "      <td>Havelock</td>\n",
       "      <td>US</td>\n",
       "      <td>82.38</td>\n",
       "      <td>34.8791</td>\n",
       "      <td>-76.9013</td>\n",
       "      <td>Sherwood Motel</td>\n",
       "    </tr>\n",
       "    <tr>\n",
       "      <th>15</th>\n",
       "      <td>Kieta</td>\n",
       "      <td>PG</td>\n",
       "      <td>83.46</td>\n",
       "      <td>-6.2167</td>\n",
       "      <td>155.6333</td>\n",
       "      <td>Uruna Bay Retreat</td>\n",
       "    </tr>\n",
       "    <tr>\n",
       "      <th>17</th>\n",
       "      <td>Vaini</td>\n",
       "      <td>TO</td>\n",
       "      <td>78.96</td>\n",
       "      <td>-21.2000</td>\n",
       "      <td>-175.2000</td>\n",
       "      <td>Keleti Beach Resort</td>\n",
       "    </tr>\n",
       "    <tr>\n",
       "      <th>22</th>\n",
       "      <td>Dingle</td>\n",
       "      <td>PH</td>\n",
       "      <td>86.59</td>\n",
       "      <td>10.9995</td>\n",
       "      <td>122.6711</td>\n",
       "      <td>SEGAYA PROPERTY</td>\n",
       "    </tr>\n",
       "    <tr>\n",
       "      <th>...</th>\n",
       "      <td>...</td>\n",
       "      <td>...</td>\n",
       "      <td>...</td>\n",
       "      <td>...</td>\n",
       "      <td>...</td>\n",
       "      <td>...</td>\n",
       "    </tr>\n",
       "    <tr>\n",
       "      <th>563</th>\n",
       "      <td>Shenjiamen</td>\n",
       "      <td>CN</td>\n",
       "      <td>82.06</td>\n",
       "      <td>29.9576</td>\n",
       "      <td>122.2980</td>\n",
       "      <td>Jinjiang Inn Zhoushan Putuo Shenjiamen</td>\n",
       "    </tr>\n",
       "    <tr>\n",
       "      <th>574</th>\n",
       "      <td>Fare</td>\n",
       "      <td>PF</td>\n",
       "      <td>77.05</td>\n",
       "      <td>-16.7000</td>\n",
       "      <td>-151.0167</td>\n",
       "      <td>Maitai Lapita Village Huahine</td>\n",
       "    </tr>\n",
       "    <tr>\n",
       "      <th>575</th>\n",
       "      <td>Yankton</td>\n",
       "      <td>US</td>\n",
       "      <td>85.12</td>\n",
       "      <td>42.8711</td>\n",
       "      <td>-97.3973</td>\n",
       "      <td>Holiday Inn Express &amp; Suites Yankton, an IHG H...</td>\n",
       "    </tr>\n",
       "    <tr>\n",
       "      <th>579</th>\n",
       "      <td>Nanning</td>\n",
       "      <td>CN</td>\n",
       "      <td>88.25</td>\n",
       "      <td>22.8167</td>\n",
       "      <td>108.3167</td>\n",
       "      <td>Nanning Travelling With Hostel</td>\n",
       "    </tr>\n",
       "    <tr>\n",
       "      <th>581</th>\n",
       "      <td>Urucara</td>\n",
       "      <td>BR</td>\n",
       "      <td>76.19</td>\n",
       "      <td>-2.5364</td>\n",
       "      <td>-57.7600</td>\n",
       "      <td>Pousada Maria Bonita</td>\n",
       "    </tr>\n",
       "  </tbody>\n",
       "</table>\n",
       "<p>180 rows × 6 columns</p>\n",
       "</div>"
      ],
      "text/plain": [
       "           City Country  Max Temp      Lat       Lng  \\\n",
       "0     Kavaratti      IN     82.09  10.5669   72.6420   \n",
       "7      Havelock      US     82.38  34.8791  -76.9013   \n",
       "15        Kieta      PG     83.46  -6.2167  155.6333   \n",
       "17        Vaini      TO     78.96 -21.2000 -175.2000   \n",
       "22       Dingle      PH     86.59  10.9995  122.6711   \n",
       "..          ...     ...       ...      ...       ...   \n",
       "563  Shenjiamen      CN     82.06  29.9576  122.2980   \n",
       "574        Fare      PF     77.05 -16.7000 -151.0167   \n",
       "575     Yankton      US     85.12  42.8711  -97.3973   \n",
       "579     Nanning      CN     88.25  22.8167  108.3167   \n",
       "581     Urucara      BR     76.19  -2.5364  -57.7600   \n",
       "\n",
       "                                            Hotel Name  \n",
       "0                                           Green leaf  \n",
       "7                                       Sherwood Motel  \n",
       "15                                   Uruna Bay Retreat  \n",
       "17                                 Keleti Beach Resort  \n",
       "22                                     SEGAYA PROPERTY  \n",
       "..                                                 ...  \n",
       "563             Jinjiang Inn Zhoushan Putuo Shenjiamen  \n",
       "574                      Maitai Lapita Village Huahine  \n",
       "575  Holiday Inn Express & Suites Yankton, an IHG H...  \n",
       "579                     Nanning Travelling With Hostel  \n",
       "581                               Pousada Maria Bonita  \n",
       "\n",
       "[180 rows x 6 columns]"
      ]
     },
     "execution_count": 20,
     "metadata": {},
     "output_type": "execute_result"
    }
   ],
   "source": [
    "hotel_df"
   ]
  },
  {
   "cell_type": "markdown",
   "id": "5ae3a452",
   "metadata": {},
   "source": [
    "## Create a Maximum Temperature Heatmap from a Hotel DataFrame"
   ]
  },
  {
   "cell_type": "code",
   "execution_count": 66,
   "id": "36e632aa",
   "metadata": {},
   "outputs": [
    {
     "data": {
      "application/vnd.jupyter.widget-view+json": {
       "model_id": "4b97bbd7cd4944189f37e953565becb2",
       "version_major": 2,
       "version_minor": 0
      },
      "text/plain": [
       "Figure(layout=FigureLayout(height='420px'))"
      ]
     },
     "metadata": {},
     "output_type": "display_data"
    }
   ],
   "source": [
    "# Add a heatmap of temperature for the vacation spots.\n",
    "locations = hotel_df[[\"Lat\", \"Lng\"]]\n",
    "max_temp = hotel_df[\"Max Temp\"]\n",
    "fig = gmaps.figure(center=(30.0, 31.0), zoom_level=1.5)\n",
    "heat_layer = gmaps.heatmap_layer(locations, weights=max_temp, dissipating=False,\n",
    "             max_intensity=300, point_radius=4)\n",
    "marker_layer = gmaps.marker_layer(locations)\n",
    "fig.add_layer(heat_layer)\n",
    "fig.add_layer(marker_layer)\n",
    "# Call the figure to plot the data.\n",
    "fig"
   ]
  },
  {
   "cell_type": "code",
   "execution_count": 61,
   "id": "559305d1",
   "metadata": {},
   "outputs": [],
   "source": [
    "info_box_template = \"\"\" \n",
    "<dl>\n",
    "<dt>Hotel Name</dt><dd>{Hotel Name}</dd>\n",
    "<dt>City</dt><dd>{City}</dd>\n",
    "<dt>Country</dt><dd>{Country}</dd>\n",
    "<dt>Max Temp</dt><dd>{Max Temp} °F</dd>\n",
    "</dl>\n",
    "\"\"\"\n"
   ]
  },
  {
   "cell_type": "code",
   "execution_count": 62,
   "id": "f7335b62",
   "metadata": {},
   "outputs": [],
   "source": [
    "# Store the DataFrame Row.\n",
    "hotel_info = [info_box_template.format(**row) for index, row in hotel_df.iterrows()]"
   ]
  },
  {
   "cell_type": "code",
   "execution_count": 63,
   "id": "dd3b016f",
   "metadata": {},
   "outputs": [
    {
     "data": {
      "text/plain": [
       "[' \\n<dl>\\n<dt>Hotel Name</dt><dd>Green leaf</dd>\\n<dt>City</dt><dd>Kavaratti</dd>\\n<dt>Country</dt><dd>IN</dd>\\n<dt>Max Temp</dt><dd>82.09 °F</dd>\\n</dl>\\n',\n",
       " ' \\n<dl>\\n<dt>Hotel Name</dt><dd>Sherwood Motel</dd>\\n<dt>City</dt><dd>Havelock</dd>\\n<dt>Country</dt><dd>US</dd>\\n<dt>Max Temp</dt><dd>82.38 °F</dd>\\n</dl>\\n',\n",
       " ' \\n<dl>\\n<dt>Hotel Name</dt><dd>Uruna Bay Retreat</dd>\\n<dt>City</dt><dd>Kieta</dd>\\n<dt>Country</dt><dd>PG</dd>\\n<dt>Max Temp</dt><dd>83.46 °F</dd>\\n</dl>\\n',\n",
       " ' \\n<dl>\\n<dt>Hotel Name</dt><dd>Keleti Beach Resort</dd>\\n<dt>City</dt><dd>Vaini</dd>\\n<dt>Country</dt><dd>TO</dd>\\n<dt>Max Temp</dt><dd>78.96 °F</dd>\\n</dl>\\n',\n",
       " ' \\n<dl>\\n<dt>Hotel Name</dt><dd>SEGAYA PROPERTY</dd>\\n<dt>City</dt><dd>Dingle</dd>\\n<dt>Country</dt><dd>PH</dd>\\n<dt>Max Temp</dt><dd>86.59 °F</dd>\\n</dl>\\n',\n",
       " ' \\n<dl>\\n<dt>Hotel Name</dt><dd>Thank Inn Plus Hotel Shanxi Jinzhong Yuci District Yingbin West Street Yinhaixinyue</dd>\\n<dt>City</dt><dd>Yuci</dd>\\n<dt>Country</dt><dd>CN</dd>\\n<dt>Max Temp</dt><dd>82.15 °F</dd>\\n</dl>\\n',\n",
       " ' \\n<dl>\\n<dt>Hotel Name</dt><dd>SpringHill Suites by Marriott Wenatchee</dd>\\n<dt>City</dt><dd>Wenatchee</dd>\\n<dt>Country</dt><dd>US</dd>\\n<dt>Max Temp</dt><dd>82.69 °F</dd>\\n</dl>\\n',\n",
       " ' \\n<dl>\\n<dt>Hotel Name</dt><dd>Cititel Penang</dd>\\n<dt>City</dt><dd>Georgetown</dd>\\n<dt>Country</dt><dd>MY</dd>\\n<dt>Max Temp</dt><dd>87.73 °F</dd>\\n</dl>\\n',\n",
       " ' \\n<dl>\\n<dt>Hotel Name</dt><dd>LE SAMANA</dd>\\n<dt>City</dt><dd>Mana</dd>\\n<dt>Country</dt><dd>GF</dd>\\n<dt>Max Temp</dt><dd>76.05 °F</dd>\\n</dl>\\n',\n",
       " ' \\n<dl>\\n<dt>Hotel Name</dt><dd>Hampton Inn & Suites Washington-Dulles International Airport</dd>\\n<dt>City</dt><dd>Sterling</dd>\\n<dt>Country</dt><dd>US</dd>\\n<dt>Max Temp</dt><dd>76.12 °F</dd>\\n</dl>\\n',\n",
       " ' \\n<dl>\\n<dt>Hotel Name</dt><dd>Batalla’s Lodging House</dd>\\n<dt>City</dt><dd>Balabac</dd>\\n<dt>Country</dt><dd>PH</dd>\\n<dt>Max Temp</dt><dd>85.42 °F</dd>\\n</dl>\\n',\n",
       " ' \\n<dl>\\n<dt>Hotel Name</dt><dd>Lvye Holiday Resort</dd>\\n<dt>City</dt><dd>Changji</dd>\\n<dt>Country</dt><dd>CN</dd>\\n<dt>Max Temp</dt><dd>77.79 °F</dd>\\n</dl>\\n',\n",
       " ' \\n<dl>\\n<dt>Hotel Name</dt><dd>Motel 6 Sinton, TX</dd>\\n<dt>City</dt><dd>San Patricio</dd>\\n<dt>Country</dt><dd>US</dd>\\n<dt>Max Temp</dt><dd>84.09 °F</dd>\\n</dl>\\n',\n",
       " ' \\n<dl>\\n<dt>Hotel Name</dt><dd>Holiday Inn Express Roseville-St. Paul</dd>\\n<dt>City</dt><dd>Saint Anthony</dd>\\n<dt>Country</dt><dd>US</dd>\\n<dt>Max Temp</dt><dd>76.93 °F</dd>\\n</dl>\\n',\n",
       " ' \\n<dl>\\n<dt>Hotel Name</dt><dd>Grage Hotel Bengkulu</dd>\\n<dt>City</dt><dd>Bengkulu</dd>\\n<dt>Country</dt><dd>ID</dd>\\n<dt>Max Temp</dt><dd>83.89 °F</dd>\\n</dl>\\n',\n",
       " ' \\n<dl>\\n<dt>Hotel Name</dt><dd>Hotel Sudarshan</dd>\\n<dt>City</dt><dd>Nathdwara</dd>\\n<dt>Country</dt><dd>IN</dd>\\n<dt>Max Temp</dt><dd>76.19 °F</dd>\\n</dl>\\n',\n",
       " ' \\n<dl>\\n<dt>Hotel Name</dt><dd>Hotel Soubhagya Inn</dd>\\n<dt>City</dt><dd>Amli</dd>\\n<dt>Country</dt><dd>IN</dd>\\n<dt>Max Temp</dt><dd>77.97 °F</dd>\\n</dl>\\n',\n",
       " ' \\n<dl>\\n<dt>Hotel Name</dt><dd>Yijia Hotel</dd>\\n<dt>City</dt><dd>Hecun</dd>\\n<dt>Country</dt><dd>CN</dd>\\n<dt>Max Temp</dt><dd>87.64 °F</dd>\\n</dl>\\n',\n",
       " ' \\n<dl>\\n<dt>Hotel Name</dt><dd>The Espiritu Hotel</dd>\\n<dt>City</dt><dd>Luganville</dd>\\n<dt>Country</dt><dd>VU</dd>\\n<dt>Max Temp</dt><dd>81.18 °F</dd>\\n</dl>\\n',\n",
       " ' \\n<dl>\\n<dt>Hotel Name</dt><dd>Isles Sunset Lodge</dd>\\n<dt>City</dt><dd>Butaritari</dd>\\n<dt>Country</dt><dd>KI</dd>\\n<dt>Max Temp</dt><dd>82.2 °F</dd>\\n</dl>\\n',\n",
       " ' \\n<dl>\\n<dt>Hotel Name</dt><dd>Tanna Lodge</dd>\\n<dt>City</dt><dd>Isangel</dd>\\n<dt>Country</dt><dd>VU</dd>\\n<dt>Max Temp</dt><dd>75.31 °F</dd>\\n</dl>\\n',\n",
       " ' \\n<dl>\\n<dt>Hotel Name</dt><dd>Novotel Dakar</dd>\\n<dt>City</dt><dd>Dakar</dd>\\n<dt>Country</dt><dd>SN</dd>\\n<dt>Max Temp</dt><dd>77.88 °F</dd>\\n</dl>\\n',\n",
       " ' \\n<dl>\\n<dt>Hotel Name</dt><dd>Hotel Caribe</dd>\\n<dt>City</dt><dd>Barahona</dd>\\n<dt>Country</dt><dd>DO</dd>\\n<dt>Max Temp</dt><dd>78.58 °F</dd>\\n</dl>\\n',\n",
       " ' \\n<dl>\\n<dt>Hotel Name</dt><dd>RedDoorz Syariah near Taman Berlabuh Tarakan</dd>\\n<dt>City</dt><dd>Tarakan</dd>\\n<dt>Country</dt><dd>ID</dd>\\n<dt>Max Temp</dt><dd>83.7 °F</dd>\\n</dl>\\n',\n",
       " ' \\n<dl>\\n<dt>Hotel Name</dt><dd>Sheraton Kauai Coconut Beach Resort</dd>\\n<dt>City</dt><dd>Kapaa</dd>\\n<dt>Country</dt><dd>US</dd>\\n<dt>Max Temp</dt><dd>84.18 °F</dd>\\n</dl>\\n',\n",
       " ' \\n<dl>\\n<dt>Hotel Name</dt><dd></dd>\\n<dt>City</dt><dd>Mokhsogollokh</dd>\\n<dt>Country</dt><dd>RU</dd>\\n<dt>Max Temp</dt><dd>81.23 °F</dd>\\n</dl>\\n',\n",
       " ' \\n<dl>\\n<dt>Hotel Name</dt><dd>Villa Enata</dd>\\n<dt>City</dt><dd>Atuona</dd>\\n<dt>Country</dt><dd>PF</dd>\\n<dt>Max Temp</dt><dd>77.68 °F</dd>\\n</dl>\\n',\n",
       " ' \\n<dl>\\n<dt>Hotel Name</dt><dd>Cottage settlement \"Curved seashore\"</dd>\\n<dt>City</dt><dd>Shchelkun</dd>\\n<dt>Country</dt><dd>RU</dd>\\n<dt>Max Temp</dt><dd>78.37 °F</dd>\\n</dl>\\n',\n",
       " ' \\n<dl>\\n<dt>Hotel Name</dt><dd>JVL Inn and Cafeteria</dd>\\n<dt>City</dt><dd>Sarangani</dd>\\n<dt>Country</dt><dd>PH</dd>\\n<dt>Max Temp</dt><dd>82.72 °F</dd>\\n</dl>\\n',\n",
       " \" \\n<dl>\\n<dt>Hotel Name</dt><dd>Marriott's Ko Olina Beach Club</dd>\\n<dt>City</dt><dd>Makakilo City</dd>\\n<dt>Country</dt><dd>US</dd>\\n<dt>Max Temp</dt><dd>82.72 °F</dd>\\n</dl>\\n\",\n",
       " ' \\n<dl>\\n<dt>Hotel Name</dt><dd>Lotte Hotel Seoul</dd>\\n<dt>City</dt><dd>Seoul</dd>\\n<dt>Country</dt><dd>KR</dd>\\n<dt>Max Temp</dt><dd>87.19 °F</dd>\\n</dl>\\n',\n",
       " ' \\n<dl>\\n<dt>Hotel Name</dt><dd>Best Western Plus Abbey Inn</dd>\\n<dt>City</dt><dd>Saint George</dd>\\n<dt>Country</dt><dd>US</dd>\\n<dt>Max Temp</dt><dd>84.79 °F</dd>\\n</dl>\\n',\n",
       " ' \\n<dl>\\n<dt>Hotel Name</dt><dd>Maui Seaside Hotel</dd>\\n<dt>City</dt><dd>Kahului</dd>\\n<dt>Country</dt><dd>US</dd>\\n<dt>Max Temp</dt><dd>80.62 °F</dd>\\n</dl>\\n',\n",
       " ' \\n<dl>\\n<dt>Hotel Name</dt><dd>Mercure Padang</dd>\\n<dt>City</dt><dd>Padang</dd>\\n<dt>Country</dt><dd>ID</dd>\\n<dt>Max Temp</dt><dd>87.85 °F</dd>\\n</dl>\\n',\n",
       " ' \\n<dl>\\n<dt>Hotel Name</dt><dd>Paradise Inn</dd>\\n<dt>City</dt><dd>Avarua</dd>\\n<dt>Country</dt><dd>CK</dd>\\n<dt>Max Temp</dt><dd>75.25 °F</dd>\\n</dl>\\n',\n",
       " ' \\n<dl>\\n<dt>Hotel Name</dt><dd>Capri Motel</dd>\\n<dt>City</dt><dd>Ontario</dd>\\n<dt>Country</dt><dd>US</dd>\\n<dt>Max Temp</dt><dd>85.39 °F</dd>\\n</dl>\\n',\n",
       " ' \\n<dl>\\n<dt>Hotel Name</dt><dd>Hotel Ust-Nera</dd>\\n<dt>City</dt><dd>Ust-Nera</dd>\\n<dt>Country</dt><dd>RU</dd>\\n<dt>Max Temp</dt><dd>80.04 °F</dd>\\n</dl>\\n',\n",
       " ' \\n<dl>\\n<dt>Hotel Name</dt><dd>Embassy Suites by Hilton Portland Downtown</dd>\\n<dt>City</dt><dd>Portland</dd>\\n<dt>Country</dt><dd>US</dd>\\n<dt>Max Temp</dt><dd>76.98 °F</dd>\\n</dl>\\n',\n",
       " ' \\n<dl>\\n<dt>Hotel Name</dt><dd></dd>\\n<dt>City</dt><dd>Weihe</dd>\\n<dt>Country</dt><dd>CN</dd>\\n<dt>Max Temp</dt><dd>79.3 °F</dd>\\n</dl>\\n',\n",
       " \" \\n<dl>\\n<dt>Hotel Name</dt><dd>Individual'nyy Predprinimatel' Rakhmanin Andrey Aleksandrovich</dd>\\n<dt>City</dt><dd>Bredy</dd>\\n<dt>Country</dt><dd>RU</dd>\\n<dt>Max Temp</dt><dd>77.45 °F</dd>\\n</dl>\\n\",\n",
       " ' \\n<dl>\\n<dt>Hotel Name</dt><dd>Katsuura Hotel Mikazuki</dd>\\n<dt>City</dt><dd>Katsuura</dd>\\n<dt>Country</dt><dd>JP</dd>\\n<dt>Max Temp</dt><dd>77.02 °F</dd>\\n</dl>\\n',\n",
       " ' \\n<dl>\\n<dt>Hotel Name</dt><dd>Gostinitsa Tommot</dd>\\n<dt>City</dt><dd>Tommot</dd>\\n<dt>Country</dt><dd>RU</dd>\\n<dt>Max Temp</dt><dd>85.39 °F</dd>\\n</dl>\\n',\n",
       " ' \\n<dl>\\n<dt>Hotel Name</dt><dd></dd>\\n<dt>City</dt><dd>Agadez</dd>\\n<dt>Country</dt><dd>NE</dd>\\n<dt>Max Temp</dt><dd>82.85 °F</dd>\\n</dl>\\n',\n",
       " ' \\n<dl>\\n<dt>Hotel Name</dt><dd>Auki Motel</dd>\\n<dt>City</dt><dd>Auki</dd>\\n<dt>Country</dt><dd>SB</dd>\\n<dt>Max Temp</dt><dd>84.52 °F</dd>\\n</dl>\\n',\n",
       " ' \\n<dl>\\n<dt>Hotel Name</dt><dd>Obshchezhitiye Uchebno-Proizvodstvennogo Tsentra</dd>\\n<dt>City</dt><dd>Igrim</dd>\\n<dt>Country</dt><dd>RU</dd>\\n<dt>Max Temp</dt><dd>79.48 °F</dd>\\n</dl>\\n',\n",
       " ' \\n<dl>\\n<dt>Hotel Name</dt><dd>Storyboard Beach Resort</dd>\\n<dt>City</dt><dd>Kloulklubed</dd>\\n<dt>Country</dt><dd>PW</dd>\\n<dt>Max Temp</dt><dd>84.7 °F</dd>\\n</dl>\\n',\n",
       " ' \\n<dl>\\n<dt>Hotel Name</dt><dd>HOTEL BOURAQ INDAH PERMAI</dd>\\n<dt>City</dt><dd>Barabai</dd>\\n<dt>Country</dt><dd>ID</dd>\\n<dt>Max Temp</dt><dd>82.36 °F</dd>\\n</dl>\\n',\n",
       " ' \\n<dl>\\n<dt>Hotel Name</dt><dd>In Wewak Boutique Hotel</dd>\\n<dt>City</dt><dd>Wewak</dd>\\n<dt>Country</dt><dd>PG</dd>\\n<dt>Max Temp</dt><dd>83.12 °F</dd>\\n</dl>\\n',\n",
       " ' \\n<dl>\\n<dt>Hotel Name</dt><dd>Inubosaki Kanko Hotel</dd>\\n<dt>City</dt><dd>Hasaki</dd>\\n<dt>Country</dt><dd>JP</dd>\\n<dt>Max Temp</dt><dd>79.29 °F</dd>\\n</dl>\\n',\n",
       " ' \\n<dl>\\n<dt>Hotel Name</dt><dd></dd>\\n<dt>City</dt><dd>Elko</dd>\\n<dt>Country</dt><dd>US</dd>\\n<dt>Max Temp</dt><dd>84.22 °F</dd>\\n</dl>\\n',\n",
       " ' \\n<dl>\\n<dt>Hotel Name</dt><dd>Seifuso</dd>\\n<dt>City</dt><dd>Mikuni</dd>\\n<dt>Country</dt><dd>JP</dd>\\n<dt>Max Temp</dt><dd>80.38 °F</dd>\\n</dl>\\n',\n",
       " ' \\n<dl>\\n<dt>Hotel Name</dt><dd>janelas do mar</dd>\\n<dt>City</dt><dd>Trairi</dd>\\n<dt>Country</dt><dd>BR</dd>\\n<dt>Max Temp</dt><dd>77.49 °F</dd>\\n</dl>\\n',\n",
       " ' \\n<dl>\\n<dt>Hotel Name</dt><dd>Hotel de Ville</dd>\\n<dt>City</dt><dd>Zinder</dd>\\n<dt>Country</dt><dd>NE</dd>\\n<dt>Max Temp</dt><dd>82.26 °F</dd>\\n</dl>\\n',\n",
       " ' \\n<dl>\\n<dt>Hotel Name</dt><dd>Pearl Continental Muzaffarabad</dd>\\n<dt>City</dt><dd>Muzaffarabad</dd>\\n<dt>Country</dt><dd>PK</dd>\\n<dt>Max Temp</dt><dd>84.96 °F</dd>\\n</dl>\\n',\n",
       " ' \\n<dl>\\n<dt>Hotel Name</dt><dd>Aldea del Bazar Hotel and Spa</dd>\\n<dt>City</dt><dd>Puerto Escondido</dd>\\n<dt>Country</dt><dd>MX</dd>\\n<dt>Max Temp</dt><dd>77.83 °F</dd>\\n</dl>\\n',\n",
       " ' \\n<dl>\\n<dt>Hotel Name</dt><dd>DoubleFAG</dd>\\n<dt>City</dt><dd>Labuhan</dd>\\n<dt>Country</dt><dd>ID</dd>\\n<dt>Max Temp</dt><dd>84.04 °F</dd>\\n</dl>\\n',\n",
       " \" \\n<dl>\\n<dt>Hotel Name</dt><dd>Hotel Nawab's</dd>\\n<dt>City</dt><dd>Karimnagar</dd>\\n<dt>Country</dt><dd>IN</dd>\\n<dt>Max Temp</dt><dd>79.29 °F</dd>\\n</dl>\\n\",\n",
       " ' \\n<dl>\\n<dt>Hotel Name</dt><dd>Big Fish Guest House</dd>\\n<dt>City</dt><dd>Corn Island</dd>\\n<dt>Country</dt><dd>NI</dd>\\n<dt>Max Temp</dt><dd>81.54 °F</dd>\\n</dl>\\n',\n",
       " ' \\n<dl>\\n<dt>Hotel Name</dt><dd>Peace and Love Beach Club</dd>\\n<dt>City</dt><dd>Caramay</dd>\\n<dt>Country</dt><dd>PH</dd>\\n<dt>Max Temp</dt><dd>85.08 °F</dd>\\n</dl>\\n',\n",
       " ' \\n<dl>\\n<dt>Hotel Name</dt><dd>Hotel Indraprastha</dd>\\n<dt>City</dt><dd>Kayankulam</dd>\\n<dt>Country</dt><dd>IN</dd>\\n<dt>Max Temp</dt><dd>81.97 °F</dd>\\n</dl>\\n',\n",
       " ' \\n<dl>\\n<dt>Hotel Name</dt><dd>The 27th House</dd>\\n<dt>City</dt><dd>Lahad Datu</dd>\\n<dt>Country</dt><dd>MY</dd>\\n<dt>Max Temp</dt><dd>78.44 °F</dd>\\n</dl>\\n',\n",
       " ' \\n<dl>\\n<dt>Hotel Name</dt><dd>Taloa Heights</dd>\\n<dt>City</dt><dd>Alofi</dd>\\n<dt>Country</dt><dd>NU</dd>\\n<dt>Max Temp</dt><dd>77.83 °F</dd>\\n</dl>\\n',\n",
       " ' \\n<dl>\\n<dt>Hotel Name</dt><dd>Sahid Bela Ternate Hotel</dd>\\n<dt>City</dt><dd>Ternate</dd>\\n<dt>Country</dt><dd>ID</dd>\\n<dt>Max Temp</dt><dd>79.95 °F</dd>\\n</dl>\\n',\n",
       " ' \\n<dl>\\n<dt>Hotel Name</dt><dd>Maringe Lagoon Lodge</dd>\\n<dt>City</dt><dd>Buala</dd>\\n<dt>Country</dt><dd>SB</dd>\\n<dt>Max Temp</dt><dd>83.71 °F</dd>\\n</dl>\\n',\n",
       " ' \\n<dl>\\n<dt>Hotel Name</dt><dd>Four Points by Sheraton Punta Gorda Harborside</dd>\\n<dt>City</dt><dd>Punta Gorda</dd>\\n<dt>Country</dt><dd>US</dd>\\n<dt>Max Temp</dt><dd>78.01 °F</dd>\\n</dl>\\n',\n",
       " ' \\n<dl>\\n<dt>Hotel Name</dt><dd>Gostinitsa \"Diyar\"</dd>\\n<dt>City</dt><dd>Ushtobe</dd>\\n<dt>Country</dt><dd>KZ</dd>\\n<dt>Max Temp</dt><dd>84.36 °F</dd>\\n</dl>\\n',\n",
       " ' \\n<dl>\\n<dt>Hotel Name</dt><dd></dd>\\n<dt>City</dt><dd>Talaya</dd>\\n<dt>Country</dt><dd>RU</dd>\\n<dt>Max Temp</dt><dd>76.82 °F</dd>\\n</dl>\\n',\n",
       " ' \\n<dl>\\n<dt>Hotel Name</dt><dd>HAMDAN PLAZA HOTEL SALALAH, an HTG Hotel</dd>\\n<dt>City</dt><dd>Salalah</dd>\\n<dt>Country</dt><dd>OM</dd>\\n<dt>Max Temp</dt><dd>77.16 °F</dd>\\n</dl>\\n',\n",
       " ' \\n<dl>\\n<dt>Hotel Name</dt><dd>Crowne Plaza Ordos</dd>\\n<dt>City</dt><dd>Dongsheng</dd>\\n<dt>Country</dt><dd>CN</dd>\\n<dt>Max Temp</dt><dd>81.0 °F</dd>\\n</dl>\\n',\n",
       " ' \\n<dl>\\n<dt>Hotel Name</dt><dd>The Hotel Petropavlovsky</dd>\\n<dt>City</dt><dd>Petropavlovsk-Kamchatskiy</dd>\\n<dt>Country</dt><dd>RU</dd>\\n<dt>Max Temp</dt><dd>77.59 °F</dd>\\n</dl>\\n',\n",
       " ' \\n<dl>\\n<dt>Hotel Name</dt><dd></dd>\\n<dt>City</dt><dd>Verkhoyansk</dd>\\n<dt>Country</dt><dd>RU</dd>\\n<dt>Max Temp</dt><dd>79.12 °F</dd>\\n</dl>\\n',\n",
       " ' \\n<dl>\\n<dt>Hotel Name</dt><dd>The Oviedo Lodge Motel</dd>\\n<dt>City</dt><dd>Seminole</dd>\\n<dt>Country</dt><dd>US</dd>\\n<dt>Max Temp</dt><dd>77.27 °F</dd>\\n</dl>\\n',\n",
       " ' \\n<dl>\\n<dt>Hotel Name</dt><dd>Hilo Hawaiian Hotel</dd>\\n<dt>City</dt><dd>Hilo</dd>\\n<dt>Country</dt><dd>US</dd>\\n<dt>Max Temp</dt><dd>80.28 °F</dd>\\n</dl>\\n',\n",
       " ' \\n<dl>\\n<dt>Hotel Name</dt><dd>Shubhodye Nebas</dd>\\n<dt>City</dt><dd>Kumbhraj</dd>\\n<dt>Country</dt><dd>IN</dd>\\n<dt>Max Temp</dt><dd>84.78 °F</dd>\\n</dl>\\n',\n",
       " ' \\n<dl>\\n<dt>Hotel Name</dt><dd>Hotel Jin Hao</dd>\\n<dt>City</dt><dd>Jiazi</dd>\\n<dt>Country</dt><dd>CN</dd>\\n<dt>Max Temp</dt><dd>88.39 °F</dd>\\n</dl>\\n',\n",
       " ' \\n<dl>\\n<dt>Hotel Name</dt><dd></dd>\\n<dt>City</dt><dd>Tessalit</dd>\\n<dt>Country</dt><dd>ML</dd>\\n<dt>Max Temp</dt><dd>89.37 °F</dd>\\n</dl>\\n',\n",
       " ' \\n<dl>\\n<dt>Hotel Name</dt><dd>Hôtel Le Dronmi</dd>\\n<dt>City</dt><dd>Cayenne</dd>\\n<dt>Country</dt><dd>GF</dd>\\n<dt>Max Temp</dt><dd>79.09 °F</dd>\\n</dl>\\n',\n",
       " ' \\n<dl>\\n<dt>Hotel Name</dt><dd>Guest House Ruslan Nurata & Tours</dd>\\n<dt>City</dt><dd>Nurota</dd>\\n<dt>Country</dt><dd>UZ</dd>\\n<dt>Max Temp</dt><dd>85.95 °F</dd>\\n</dl>\\n',\n",
       " ' \\n<dl>\\n<dt>Hotel Name</dt><dd>Osprey Beach Hotel</dd>\\n<dt>City</dt><dd>Cockburn Town</dd>\\n<dt>Country</dt><dd>TC</dd>\\n<dt>Max Temp</dt><dd>81.52 °F</dd>\\n</dl>\\n',\n",
       " ' \\n<dl>\\n<dt>Hotel Name</dt><dd>Amiin Hotel</dd>\\n<dt>City</dt><dd>Eyl</dd>\\n<dt>Country</dt><dd>SO</dd>\\n<dt>Max Temp</dt><dd>81.16 °F</dd>\\n</dl>\\n',\n",
       " ' \\n<dl>\\n<dt>Hotel Name</dt><dd>Hotel Syariah CN Darussalam</dd>\\n<dt>City</dt><dd>Sibolga</dd>\\n<dt>Country</dt><dd>ID</dd>\\n<dt>Max Temp</dt><dd>85.64 °F</dd>\\n</dl>\\n',\n",
       " ' \\n<dl>\\n<dt>Hotel Name</dt><dd></dd>\\n<dt>City</dt><dd>Saint-Louis</dd>\\n<dt>Country</dt><dd>SN</dd>\\n<dt>Max Temp</dt><dd>79.16 °F</dd>\\n</dl>\\n',\n",
       " ' \\n<dl>\\n<dt>Hotel Name</dt><dd>Scoop Guest House</dd>\\n<dt>City</dt><dd>Hithadhoo</dd>\\n<dt>Country</dt><dd>MV</dd>\\n<dt>Max Temp</dt><dd>83.68 °F</dd>\\n</dl>\\n',\n",
       " ' \\n<dl>\\n<dt>Hotel Name</dt><dd>Bora-Bora Pearl Beach Resort & Spa</dd>\\n<dt>City</dt><dd>Faanui</dd>\\n<dt>Country</dt><dd>PF</dd>\\n<dt>Max Temp</dt><dd>76.82 °F</dd>\\n</dl>\\n',\n",
       " ' \\n<dl>\\n<dt>Hotel Name</dt><dd>Kost Alfa Flat</dd>\\n<dt>City</dt><dd>Atambua</dd>\\n<dt>Country</dt><dd>ID</dd>\\n<dt>Max Temp</dt><dd>79.97 °F</dd>\\n</dl>\\n',\n",
       " ' \\n<dl>\\n<dt>Hotel Name</dt><dd>Bungalow 63</dd>\\n<dt>City</dt><dd>Hambantota</dd>\\n<dt>Country</dt><dd>LK</dd>\\n<dt>Max Temp</dt><dd>84.74 °F</dd>\\n</dl>\\n',\n",
       " ' \\n<dl>\\n<dt>Hotel Name</dt><dd>Orient Star Dahabyia Isna 05 Nights Each Sunday</dd>\\n<dt>City</dt><dd>Esna</dd>\\n<dt>Country</dt><dd>EG</dd>\\n<dt>Max Temp</dt><dd>79.86 °F</dd>\\n</dl>\\n',\n",
       " ' \\n<dl>\\n<dt>Hotel Name</dt><dd>Golden Berries Hotel and Convention</dd>\\n<dt>City</dt><dd>Tabuk</dd>\\n<dt>Country</dt><dd>PH</dd>\\n<dt>Max Temp</dt><dd>87.67 °F</dd>\\n</dl>\\n',\n",
       " ' \\n<dl>\\n<dt>Hotel Name</dt><dd>Hotel Sri Krishna Residency</dd>\\n<dt>City</dt><dd>Malpe</dd>\\n<dt>Country</dt><dd>IN</dd>\\n<dt>Max Temp</dt><dd>81.7 °F</dd>\\n</dl>\\n',\n",
       " ' \\n<dl>\\n<dt>Hotel Name</dt><dd>Hotel Zumrat</dd>\\n<dt>City</dt><dd>Zhezkazgan</dd>\\n<dt>Country</dt><dd>KZ</dd>\\n<dt>Max Temp</dt><dd>85.98 °F</dd>\\n</dl>\\n',\n",
       " ' \\n<dl>\\n<dt>Hotel Name</dt><dd>Lorengau Harbourside Hotel</dd>\\n<dt>City</dt><dd>Lorengau</dd>\\n<dt>Country</dt><dd>PG</dd>\\n<dt>Max Temp</dt><dd>80.76 °F</dd>\\n</dl>\\n',\n",
       " ' \\n<dl>\\n<dt>Hotel Name</dt><dd>DBarakah Homestay</dd>\\n<dt>City</dt><dd>Marang</dd>\\n<dt>Country</dt><dd>MY</dd>\\n<dt>Max Temp</dt><dd>85.39 °F</dd>\\n</dl>\\n',\n",
       " ' \\n<dl>\\n<dt>Hotel Name</dt><dd>Posada Acuarela Los Roques</dd>\\n<dt>City</dt><dd>Cumana</dd>\\n<dt>Country</dt><dd>VE</dd>\\n<dt>Max Temp</dt><dd>76.62 °F</dd>\\n</dl>\\n',\n",
       " ' \\n<dl>\\n<dt>Hotel Name</dt><dd>Pine Ridge Manufactured House</dd>\\n<dt>City</dt><dd>Milton</dd>\\n<dt>Country</dt><dd>US</dd>\\n<dt>Max Temp</dt><dd>76.32 °F</dd>\\n</dl>\\n',\n",
       " ' \\n<dl>\\n<dt>Hotel Name</dt><dd>Sama Emirate Hotel</dd>\\n<dt>City</dt><dd>Aden</dd>\\n<dt>Country</dt><dd>YE</dd>\\n<dt>Max Temp</dt><dd>84.87 °F</dd>\\n</dl>\\n',\n",
       " ' \\n<dl>\\n<dt>Hotel Name</dt><dd>Planta Hotel & Residences</dd>\\n<dt>City</dt><dd>Bacolod</dd>\\n<dt>Country</dt><dd>PH</dd>\\n<dt>Max Temp</dt><dd>85.28 °F</dd>\\n</dl>\\n',\n",
       " ' \\n<dl>\\n<dt>Hotel Name</dt><dd>Casa Blanca</dd>\\n<dt>City</dt><dd>Nautla</dd>\\n<dt>Country</dt><dd>MX</dd>\\n<dt>Max Temp</dt><dd>78.87 °F</dd>\\n</dl>\\n',\n",
       " ' \\n<dl>\\n<dt>Hotel Name</dt><dd>K Garden Hotel Parit Buntar</dd>\\n<dt>City</dt><dd>Nibong Tebal</dd>\\n<dt>Country</dt><dd>MY</dd>\\n<dt>Max Temp</dt><dd>87.78 °F</dd>\\n</dl>\\n',\n",
       " ' \\n<dl>\\n<dt>Hotel Name</dt><dd>Al-Qamar Boys Hostel</dd>\\n<dt>City</dt><dd>Umarkot</dd>\\n<dt>Country</dt><dd>PK</dd>\\n<dt>Max Temp</dt><dd>87.64 °F</dd>\\n</dl>\\n',\n",
       " ' \\n<dl>\\n<dt>Hotel Name</dt><dd>Al Waddan Hotel</dd>\\n<dt>City</dt><dd>Tripoli</dd>\\n<dt>Country</dt><dd>LY</dd>\\n<dt>Max Temp</dt><dd>75.65 °F</dd>\\n</dl>\\n',\n",
       " ' \\n<dl>\\n<dt>Hotel Name</dt><dd>Sky Hotel Oda</dd>\\n<dt>City</dt><dd>Oda</dd>\\n<dt>Country</dt><dd>JP</dd>\\n<dt>Max Temp</dt><dd>81.18 °F</dd>\\n</dl>\\n',\n",
       " ' \\n<dl>\\n<dt>Hotel Name</dt><dd>Grand Vilia Hotel</dd>\\n<dt>City</dt><dd>Tual</dd>\\n<dt>Country</dt><dd>ID</dd>\\n<dt>Max Temp</dt><dd>79.39 °F</dd>\\n</dl>\\n',\n",
       " ' \\n<dl>\\n<dt>Hotel Name</dt><dd>Heritage Park Hotel</dd>\\n<dt>City</dt><dd>Honiara</dd>\\n<dt>Country</dt><dd>SB</dd>\\n<dt>Max Temp</dt><dd>82.74 °F</dd>\\n</dl>\\n',\n",
       " \" \\n<dl>\\n<dt>Hotel Name</dt><dd>Water's Edge</dd>\\n<dt>City</dt><dd>Marsaxlokk</dd>\\n<dt>Country</dt><dd>MT</dd>\\n<dt>Max Temp</dt><dd>76.08 °F</dd>\\n</dl>\\n\",\n",
       " ' \\n<dl>\\n<dt>Hotel Name</dt><dd>Amangalla</dd>\\n<dt>City</dt><dd>Galle</dd>\\n<dt>Country</dt><dd>LK</dd>\\n<dt>Max Temp</dt><dd>80.74 °F</dd>\\n</dl>\\n',\n",
       " ' \\n<dl>\\n<dt>Hotel Name</dt><dd>Nuli Sapi</dd>\\n<dt>City</dt><dd>Samarai</dd>\\n<dt>Country</dt><dd>PG</dd>\\n<dt>Max Temp</dt><dd>77.63 °F</dd>\\n</dl>\\n',\n",
       " ' \\n<dl>\\n<dt>Hotel Name</dt><dd>Holiday Inn Express & Suites Elk Grove Central - Hwy 99, an IHG Hotel</dd>\\n<dt>City</dt><dd>Laguna</dd>\\n<dt>Country</dt><dd>US</dd>\\n<dt>Max Temp</dt><dd>82.76 °F</dd>\\n</dl>\\n',\n",
       " ' \\n<dl>\\n<dt>Hotel Name</dt><dd>Lords Inn Somnath</dd>\\n<dt>City</dt><dd>Veraval</dd>\\n<dt>Country</dt><dd>IN</dd>\\n<dt>Max Temp</dt><dd>81.1 °F</dd>\\n</dl>\\n',\n",
       " ' \\n<dl>\\n<dt>Hotel Name</dt><dd>The Freeport Inn and Marina</dd>\\n<dt>City</dt><dd>Freeport</dd>\\n<dt>Country</dt><dd>US</dd>\\n<dt>Max Temp</dt><dd>81.25 °F</dd>\\n</dl>\\n',\n",
       " ' \\n<dl>\\n<dt>Hotel Name</dt><dd>Hotel The Royal Honours</dd>\\n<dt>City</dt><dd>Mangrol</dd>\\n<dt>Country</dt><dd>IN</dd>\\n<dt>Max Temp</dt><dd>81.46 °F</dd>\\n</dl>\\n',\n",
       " ' \\n<dl>\\n<dt>Hotel Name</dt><dd>Hotel Narayan Avezika Comfort</dd>\\n<dt>City</dt><dd>Dwarka</dd>\\n<dt>Country</dt><dd>IN</dd>\\n<dt>Max Temp</dt><dd>84.29 °F</dd>\\n</dl>\\n',\n",
       " ' \\n<dl>\\n<dt>Hotel Name</dt><dd>Artemis Otel</dd>\\n<dt>City</dt><dd>Erzin</dd>\\n<dt>Country</dt><dd>TR</dd>\\n<dt>Max Temp</dt><dd>75.88 °F</dd>\\n</dl>\\n',\n",
       " ' \\n<dl>\\n<dt>Hotel Name</dt><dd>Hotel Marina & Wellness Spa</dd>\\n<dt>City</dt><dd>Soller</dd>\\n<dt>Country</dt><dd>ES</dd>\\n<dt>Max Temp</dt><dd>75.04 °F</dd>\\n</dl>\\n',\n",
       " ' \\n<dl>\\n<dt>Hotel Name</dt><dd>Ikathouse</dd>\\n<dt>City</dt><dd>Komsomolskiy</dd>\\n<dt>Country</dt><dd>UZ</dd>\\n<dt>Max Temp</dt><dd>86.72 °F</dd>\\n</dl>\\n',\n",
       " ' \\n<dl>\\n<dt>Hotel Name</dt><dd>Yos ega cv</dd>\\n<dt>City</dt><dd>Boyolangu</dd>\\n<dt>Country</dt><dd>ID</dd>\\n<dt>Max Temp</dt><dd>79.36 °F</dd>\\n</dl>\\n',\n",
       " ' \\n<dl>\\n<dt>Hotel Name</dt><dd>Lindos Princess Beach Hotel</dd>\\n<dt>City</dt><dd>Lardos</dd>\\n<dt>Country</dt><dd>GR</dd>\\n<dt>Max Temp</dt><dd>77.95 °F</dd>\\n</dl>\\n',\n",
       " ' \\n<dl>\\n<dt>Hotel Name</dt><dd>Gostinitsa Mila</dd>\\n<dt>City</dt><dd>Verkhnevilyuysk</dd>\\n<dt>Country</dt><dd>RU</dd>\\n<dt>Max Temp</dt><dd>78.15 °F</dd>\\n</dl>\\n',\n",
       " ' \\n<dl>\\n<dt>Hotel Name</dt><dd>Ilha Praia Hotel</dd>\\n<dt>City</dt><dd>Camocim</dd>\\n<dt>Country</dt><dd>BR</dd>\\n<dt>Max Temp</dt><dd>75.78 °F</dd>\\n</dl>\\n',\n",
       " ' \\n<dl>\\n<dt>Hotel Name</dt><dd>Hotel Anshdeep</dd>\\n<dt>City</dt><dd>Jogindarnagar</dd>\\n<dt>Country</dt><dd>IN</dd>\\n<dt>Max Temp</dt><dd>77.31 °F</dd>\\n</dl>\\n',\n",
       " ' \\n<dl>\\n<dt>Hotel Name</dt><dd>Resorts Resource Group International</dd>\\n<dt>City</dt><dd>Mayo</dd>\\n<dt>Country</dt><dd>US</dd>\\n<dt>Max Temp</dt><dd>78.75 °F</dd>\\n</dl>\\n',\n",
       " ' \\n<dl>\\n<dt>Hotel Name</dt><dd>Laureles</dd>\\n<dt>City</dt><dd>Acajutla</dd>\\n<dt>Country</dt><dd>SV</dd>\\n<dt>Max Temp</dt><dd>78.58 °F</dd>\\n</dl>\\n',\n",
       " \" \\n<dl>\\n<dt>Hotel Name</dt><dd>Maison de l'appelé</dd>\\n<dt>City</dt><dd>Kaya</dd>\\n<dt>Country</dt><dd>BF</dd>\\n<dt>Max Temp</dt><dd>81.66 °F</dd>\\n</dl>\\n\",\n",
       " ' \\n<dl>\\n<dt>Hotel Name</dt><dd>Amaloh Boutique Resort</dd>\\n<dt>City</dt><dd>Matara</dd>\\n<dt>Country</dt><dd>LK</dd>\\n<dt>Max Temp</dt><dd>81.84 °F</dd>\\n</dl>\\n',\n",
       " ' \\n<dl>\\n<dt>Hotel Name</dt><dd></dd>\\n<dt>City</dt><dd>Evensk</dd>\\n<dt>Country</dt><dd>RU</dd>\\n<dt>Max Temp</dt><dd>75.29 °F</dd>\\n</dl>\\n',\n",
       " ' \\n<dl>\\n<dt>Hotel Name</dt><dd>OYO 1577 Hotel Shree Hari Grand</dd>\\n<dt>City</dt><dd>Puri</dd>\\n<dt>Country</dt><dd>IN</dd>\\n<dt>Max Temp</dt><dd>84.72 °F</dd>\\n</dl>\\n',\n",
       " ' \\n<dl>\\n<dt>Hotel Name</dt><dd>Hampton Inn & Suites Morgan City</dd>\\n<dt>City</dt><dd>Morgan City</dd>\\n<dt>Country</dt><dd>US</dd>\\n<dt>Max Temp</dt><dd>77.0 °F</dd>\\n</dl>\\n',\n",
       " ' \\n<dl>\\n<dt>Hotel Name</dt><dd>Hotel Tesoro Los Cabos</dd>\\n<dt>City</dt><dd>Cabo San Lucas</dd>\\n<dt>Country</dt><dd>MX</dd>\\n<dt>Max Temp</dt><dd>84.61 °F</dd>\\n</dl>\\n',\n",
       " ' \\n<dl>\\n<dt>Hotel Name</dt><dd>Raybow International Hotel</dd>\\n<dt>City</dt><dd>Takoradi</dd>\\n<dt>Country</dt><dd>GH</dd>\\n<dt>Max Temp</dt><dd>75.18 °F</dd>\\n</dl>\\n',\n",
       " ' \\n<dl>\\n<dt>Hotel Name</dt><dd>Hotel Atoll Emerald Miyakojima</dd>\\n<dt>City</dt><dd>Hirara</dd>\\n<dt>Country</dt><dd>JP</dd>\\n<dt>Max Temp</dt><dd>89.87 °F</dd>\\n</dl>\\n',\n",
       " ' \\n<dl>\\n<dt>Hotel Name</dt><dd>Vila Real Hotel</dd>\\n<dt>City</dt><dd>Porto Nacional</dd>\\n<dt>Country</dt><dd>BR</dd>\\n<dt>Max Temp</dt><dd>77.0 °F</dd>\\n</dl>\\n',\n",
       " ' \\n<dl>\\n<dt>Hotel Name</dt><dd>Kothabalaji</dd>\\n<dt>City</dt><dd>Pulivendla</dd>\\n<dt>Country</dt><dd>IN</dd>\\n<dt>Max Temp</dt><dd>84.65 °F</dd>\\n</dl>\\n',\n",
       " ' \\n<dl>\\n<dt>Hotel Name</dt><dd>Tongchuan Hotel</dd>\\n<dt>City</dt><dd>Tongchuan</dd>\\n<dt>Country</dt><dd>CN</dd>\\n<dt>Max Temp</dt><dd>82.04 °F</dd>\\n</dl>\\n',\n",
       " ' \\n<dl>\\n<dt>Hotel Name</dt><dd>900 Boutique INN</dd>\\n<dt>City</dt><dd>Bintulu</dd>\\n<dt>Country</dt><dd>MY</dd>\\n<dt>Max Temp</dt><dd>88.21 °F</dd>\\n</dl>\\n',\n",
       " ' \\n<dl>\\n<dt>Hotel Name</dt><dd>Hôtel Raiatea Lodge</dd>\\n<dt>City</dt><dd>Tevaitoa</dd>\\n<dt>Country</dt><dd>PF</dd>\\n<dt>Max Temp</dt><dd>76.91 °F</dd>\\n</dl>\\n',\n",
       " ' \\n<dl>\\n<dt>Hotel Name</dt><dd>Hotel Ashoka</dd>\\n<dt>City</dt><dd>Rajauri</dd>\\n<dt>Country</dt><dd>IN</dd>\\n<dt>Max Temp</dt><dd>79.9 °F</dd>\\n</dl>\\n',\n",
       " ' \\n<dl>\\n<dt>Hotel Name</dt><dd>Playa Linda Hotel</dd>\\n<dt>City</dt><dd>Progreso</dd>\\n<dt>Country</dt><dd>MX</dd>\\n<dt>Max Temp</dt><dd>84.31 °F</dd>\\n</dl>\\n',\n",
       " ' \\n<dl>\\n<dt>Hotel Name</dt><dd>Paradise Hotel</dd>\\n<dt>City</dt><dd>Wanning</dd>\\n<dt>Country</dt><dd>CN</dd>\\n<dt>Max Temp</dt><dd>88.63 °F</dd>\\n</dl>\\n',\n",
       " ' \\n<dl>\\n<dt>Hotel Name</dt><dd>Hotel Le Martin Pecheur</dd>\\n<dt>City</dt><dd>Jacqueville</dd>\\n<dt>Country</dt><dd>CI</dd>\\n<dt>Max Temp</dt><dd>76.15 °F</dd>\\n</dl>\\n',\n",
       " ' \\n<dl>\\n<dt>Hotel Name</dt><dd>Apartments in Inta city</dd>\\n<dt>City</dt><dd>Inta</dd>\\n<dt>Country</dt><dd>RU</dd>\\n<dt>Max Temp</dt><dd>75.78 °F</dd>\\n</dl>\\n',\n",
       " ' \\n<dl>\\n<dt>Hotel Name</dt><dd>Le Gîte d’Iracoubo</dd>\\n<dt>City</dt><dd>Iracoubo</dd>\\n<dt>Country</dt><dd>GF</dd>\\n<dt>Max Temp</dt><dd>75.72 °F</dd>\\n</dl>\\n',\n",
       " ' \\n<dl>\\n<dt>Hotel Name</dt><dd>Nusa Island Retreat</dd>\\n<dt>City</dt><dd>Kavieng</dd>\\n<dt>Country</dt><dd>PG</dd>\\n<dt>Max Temp</dt><dd>83.01 °F</dd>\\n</dl>\\n',\n",
       " ' \\n<dl>\\n<dt>Hotel Name</dt><dd>بورتو بردية</dd>\\n<dt>City</dt><dd>Bardiyah</dd>\\n<dt>Country</dt><dd>LY</dd>\\n<dt>Max Temp</dt><dd>75.31 °F</dd>\\n</dl>\\n',\n",
       " ' \\n<dl>\\n<dt>Hotel Name</dt><dd>TDC Village (Hundred Man Camp)</dd>\\n<dt>City</dt><dd>Port Keats</dd>\\n<dt>Country</dt><dd>AU</dd>\\n<dt>Max Temp</dt><dd>82.29 °F</dd>\\n</dl>\\n',\n",
       " ' \\n<dl>\\n<dt>Hotel Name</dt><dd>El rranchito michuacan de ocampos</dd>\\n<dt>City</dt><dd>Coahuayana</dd>\\n<dt>Country</dt><dd>MX</dd>\\n<dt>Max Temp</dt><dd>79.16 °F</dd>\\n</dl>\\n',\n",
       " ' \\n<dl>\\n<dt>Hotel Name</dt><dd>Oumou Elghoura</dd>\\n<dt>City</dt><dd>Atar</dd>\\n<dt>Country</dt><dd>MR</dd>\\n<dt>Max Temp</dt><dd>87.17 °F</dd>\\n</dl>\\n',\n",
       " ' \\n<dl>\\n<dt>Hotel Name</dt><dd>Hotel Villa Colonial</dd>\\n<dt>City</dt><dd>Nuevo Casas Grandes</dd>\\n<dt>Country</dt><dd>MX</dd>\\n<dt>Max Temp</dt><dd>79.75 °F</dd>\\n</dl>\\n',\n",
       " ' \\n<dl>\\n<dt>Hotel Name</dt><dd>Hotel Fifu</dd>\\n<dt>City</dt><dd>Jaisalmer</dd>\\n<dt>Country</dt><dd>IN</dd>\\n<dt>Max Temp</dt><dd>87.67 °F</dd>\\n</dl>\\n',\n",
       " ' \\n<dl>\\n<dt>Hotel Name</dt><dd>Airport Lodge Kiunga</dd>\\n<dt>City</dt><dd>Kiunga</dd>\\n<dt>Country</dt><dd>PG</dd>\\n<dt>Max Temp</dt><dd>77.43 °F</dd>\\n</dl>\\n',\n",
       " ' \\n<dl>\\n<dt>Hotel Name</dt><dd>21 Degree Hostel</dd>\\n<dt>City</dt><dd>Beihai</dd>\\n<dt>Country</dt><dd>CN</dd>\\n<dt>Max Temp</dt><dd>86.29 °F</dd>\\n</dl>\\n',\n",
       " ' \\n<dl>\\n<dt>Hotel Name</dt><dd>Family</dd>\\n<dt>City</dt><dd>Balkhash</dd>\\n<dt>Country</dt><dd>KZ</dd>\\n<dt>Max Temp</dt><dd>83.01 °F</dd>\\n</dl>\\n',\n",
       " ' \\n<dl>\\n<dt>Hotel Name</dt><dd>Hongchang Rest House</dd>\\n<dt>City</dt><dd>Xixiang</dd>\\n<dt>Country</dt><dd>CN</dd>\\n<dt>Max Temp</dt><dd>80.56 °F</dd>\\n</dl>\\n',\n",
       " ' \\n<dl>\\n<dt>Hotel Name</dt><dd>Nuba Nile</dd>\\n<dt>City</dt><dd>Aswan</dd>\\n<dt>Country</dt><dd>EG</dd>\\n<dt>Max Temp</dt><dd>80.62 °F</dd>\\n</dl>\\n',\n",
       " ' \\n<dl>\\n<dt>Hotel Name</dt><dd>Sanjrani House</dd>\\n<dt>City</dt><dd>Dalbandin</dd>\\n<dt>Country</dt><dd>PK</dd>\\n<dt>Max Temp</dt><dd>87.39 °F</dd>\\n</dl>\\n',\n",
       " ' \\n<dl>\\n<dt>Hotel Name</dt><dd>Hampton Inn Elizabeth City</dd>\\n<dt>City</dt><dd>Elizabeth City</dd>\\n<dt>Country</dt><dd>US</dd>\\n<dt>Max Temp</dt><dd>79.02 °F</dd>\\n</dl>\\n',\n",
       " ' \\n<dl>\\n<dt>Hotel Name</dt><dd>Гостиничный Комплекс Уют</dd>\\n<dt>City</dt><dd>Amazar</dd>\\n<dt>Country</dt><dd>RU</dd>\\n<dt>Max Temp</dt><dd>77.59 °F</dd>\\n</dl>\\n',\n",
       " ' \\n<dl>\\n<dt>Hotel Name</dt><dd>Kost Pria</dd>\\n<dt>City</dt><dd>Meulaboh</dd>\\n<dt>Country</dt><dd>ID</dd>\\n<dt>Max Temp</dt><dd>85.41 °F</dd>\\n</dl>\\n',\n",
       " ' \\n<dl>\\n<dt>Hotel Name</dt><dd>Radisson Grenada Beach Resort</dd>\\n<dt>City</dt><dd>Saint-Georges</dd>\\n<dt>Country</dt><dd>GD</dd>\\n<dt>Max Temp</dt><dd>78.48 °F</dd>\\n</dl>\\n',\n",
       " ' \\n<dl>\\n<dt>Hotel Name</dt><dd>Delong Hotel</dd>\\n<dt>City</dt><dd>Shache</dd>\\n<dt>Country</dt><dd>CN</dd>\\n<dt>Max Temp</dt><dd>79.7 °F</dd>\\n</dl>\\n',\n",
       " ' \\n<dl>\\n<dt>Hotel Name</dt><dd>Imagination Island</dd>\\n<dt>City</dt><dd>Gizo</dd>\\n<dt>Country</dt><dd>SB</dd>\\n<dt>Max Temp</dt><dd>84.02 °F</dd>\\n</dl>\\n',\n",
       " ' \\n<dl>\\n<dt>Hotel Name</dt><dd>Refine Home Style Ltd.</dd>\\n<dt>City</dt><dd>Arima</dd>\\n<dt>Country</dt><dd>TT</dd>\\n<dt>Max Temp</dt><dd>80.13 °F</dd>\\n</dl>\\n',\n",
       " ' \\n<dl>\\n<dt>Hotel Name</dt><dd>Atlantis Hotel</dd>\\n<dt>City</dt><dd>Bathsheba</dd>\\n<dt>Country</dt><dd>BB</dd>\\n<dt>Max Temp</dt><dd>83.01 °F</dd>\\n</dl>\\n',\n",
       " ' \\n<dl>\\n<dt>Hotel Name</dt><dd>Baculin Cove Beach Resort</dd>\\n<dt>City</dt><dd>Baculin</dd>\\n<dt>Country</dt><dd>PH</dd>\\n<dt>Max Temp</dt><dd>85.53 °F</dd>\\n</dl>\\n',\n",
       " ' \\n<dl>\\n<dt>Hotel Name</dt><dd></dd>\\n<dt>City</dt><dd>Kuldur</dd>\\n<dt>Country</dt><dd>RU</dd>\\n<dt>Max Temp</dt><dd>78.21 °F</dd>\\n</dl>\\n',\n",
       " ' \\n<dl>\\n<dt>Hotel Name</dt><dd></dd>\\n<dt>City</dt><dd>Tiznit</dd>\\n<dt>Country</dt><dd>MA</dd>\\n<dt>Max Temp</dt><dd>77.61 °F</dd>\\n</dl>\\n',\n",
       " \" \\n<dl>\\n<dt>Hotel Name</dt><dd>Big Red's</dd>\\n<dt>City</dt><dd>Bull Savanna</dd>\\n<dt>Country</dt><dd>JM</dd>\\n<dt>Max Temp</dt><dd>75.6 °F</dd>\\n</dl>\\n\",\n",
       " ' \\n<dl>\\n<dt>Hotel Name</dt><dd>Erenhot Rurouni Youth Hostel</dd>\\n<dt>City</dt><dd>Erenhot</dd>\\n<dt>Country</dt><dd>CN</dd>\\n<dt>Max Temp</dt><dd>84.72 °F</dd>\\n</dl>\\n',\n",
       " ' \\n<dl>\\n<dt>Hotel Name</dt><dd>Hotel Lago da Palma</dd>\\n<dt>City</dt><dd>Palmas</dd>\\n<dt>Country</dt><dd>BR</dd>\\n<dt>Max Temp</dt><dd>76.87 °F</dd>\\n</dl>\\n',\n",
       " ' \\n<dl>\\n<dt>Hotel Name</dt><dd>Hamza hotel jiwani</dd>\\n<dt>City</dt><dd>Jiwani</dd>\\n<dt>Country</dt><dd>PK</dd>\\n<dt>Max Temp</dt><dd>83.37 °F</dd>\\n</dl>\\n',\n",
       " ' \\n<dl>\\n<dt>Hotel Name</dt><dd>Dynasty Suites Redlands</dd>\\n<dt>City</dt><dd>Redlands</dd>\\n<dt>Country</dt><dd>US</dd>\\n<dt>Max Temp</dt><dd>89.94 °F</dd>\\n</dl>\\n',\n",
       " ' \\n<dl>\\n<dt>Hotel Name</dt><dd>Sadaf Resort</dd>\\n<dt>City</dt><dd>Gwadar</dd>\\n<dt>Country</dt><dd>PK</dd>\\n<dt>Max Temp</dt><dd>83.3 °F</dd>\\n</dl>\\n',\n",
       " ' \\n<dl>\\n<dt>Hotel Name</dt><dd>STAR FAMILY DABA</dd>\\n<dt>City</dt><dd>Holalkere</dd>\\n<dt>Country</dt><dd>IN</dd>\\n<dt>Max Temp</dt><dd>76.03 °F</dd>\\n</dl>\\n',\n",
       " ' \\n<dl>\\n<dt>Hotel Name</dt><dd>\"Tusku\"</dd>\\n<dt>City</dt><dd>Churapcha</dd>\\n<dt>Country</dt><dd>RU</dd>\\n<dt>Max Temp</dt><dd>78.33 °F</dd>\\n</dl>\\n',\n",
       " ' \\n<dl>\\n<dt>Hotel Name</dt><dd>El Felix Cottages</dd>\\n<dt>City</dt><dd>Anito</dd>\\n<dt>Country</dt><dd>PH</dd>\\n<dt>Max Temp</dt><dd>88.02 °F</dd>\\n</dl>\\n',\n",
       " ' \\n<dl>\\n<dt>Hotel Name</dt><dd>Hotel Casa de Campo Pedasí</dd>\\n<dt>City</dt><dd>Pedasi</dd>\\n<dt>Country</dt><dd>PA</dd>\\n<dt>Max Temp</dt><dd>76.06 °F</dd>\\n</dl>\\n',\n",
       " ' \\n<dl>\\n<dt>Hotel Name</dt><dd>Iftin hotel hobyo</dd>\\n<dt>City</dt><dd>Hobyo</dd>\\n<dt>Country</dt><dd>SO</dd>\\n<dt>Max Temp</dt><dd>78.46 °F</dd>\\n</dl>\\n',\n",
       " ' \\n<dl>\\n<dt>Hotel Name</dt><dd>Jinjiang Inn Zhoushan Putuo Shenjiamen</dd>\\n<dt>City</dt><dd>Shenjiamen</dd>\\n<dt>Country</dt><dd>CN</dd>\\n<dt>Max Temp</dt><dd>82.06 °F</dd>\\n</dl>\\n',\n",
       " ' \\n<dl>\\n<dt>Hotel Name</dt><dd>Maitai Lapita Village Huahine</dd>\\n<dt>City</dt><dd>Fare</dd>\\n<dt>Country</dt><dd>PF</dd>\\n<dt>Max Temp</dt><dd>77.05 °F</dd>\\n</dl>\\n',\n",
       " ' \\n<dl>\\n<dt>Hotel Name</dt><dd>Holiday Inn Express & Suites Yankton, an IHG Hotel</dd>\\n<dt>City</dt><dd>Yankton</dd>\\n<dt>Country</dt><dd>US</dd>\\n<dt>Max Temp</dt><dd>85.12 °F</dd>\\n</dl>\\n',\n",
       " ' \\n<dl>\\n<dt>Hotel Name</dt><dd>Nanning Travelling With Hostel</dd>\\n<dt>City</dt><dd>Nanning</dd>\\n<dt>Country</dt><dd>CN</dd>\\n<dt>Max Temp</dt><dd>88.25 °F</dd>\\n</dl>\\n',\n",
       " ' \\n<dl>\\n<dt>Hotel Name</dt><dd>Pousada Maria Bonita</dd>\\n<dt>City</dt><dd>Urucara</dd>\\n<dt>Country</dt><dd>BR</dd>\\n<dt>Max Temp</dt><dd>76.19 °F</dd>\\n</dl>\\n']"
      ]
     },
     "execution_count": 63,
     "metadata": {},
     "output_type": "execute_result"
    }
   ],
   "source": [
    "hotel_info"
   ]
  },
  {
   "cell_type": "code",
   "execution_count": 65,
   "id": "30dfb09a",
   "metadata": {},
   "outputs": [
    {
     "data": {
      "application/vnd.jupyter.widget-view+json": {
       "model_id": "8db3d1a88f04442db136fe39e4ac7f83",
       "version_major": 2,
       "version_minor": 0
      },
      "text/plain": [
       "Figure(layout=FigureLayout(height='420px'))"
      ]
     },
     "metadata": {},
     "output_type": "display_data"
    }
   ],
   "source": [
    "# Add a heatmap of temperature for the vacation spots and a pop-up marker for each city.\n",
    "locations = hotel_df[[\"Lat\", \"Lng\"]]\n",
    "max_temp = hotel_df[\"Max Temp\"]\n",
    "fig = gmaps.figure(center=(30.0, 31.0), zoom_level=1.5)\n",
    "heat_layer = gmaps.heatmap_layer(locations, weights=max_temp,dissipating=False,\n",
    "             max_intensity=300, point_radius=4)\n",
    "marker_layer = gmaps.marker_layer(locations, info_box_content=hotel_info)\n",
    "fig.add_layer(heat_layer)\n",
    "fig.add_layer(marker_layer)\n",
    "\n",
    "# Call the figure to plot the data.\n",
    "fig"
   ]
  },
  {
   "cell_type": "code",
   "execution_count": null,
   "id": "b74ec43b",
   "metadata": {},
   "outputs": [],
   "source": []
  },
  {
   "cell_type": "code",
   "execution_count": null,
   "id": "741ac2a9",
   "metadata": {},
   "outputs": [],
   "source": []
  }
 ],
 "metadata": {
  "kernelspec": {
   "display_name": "Python 3 (ipykernel)",
   "language": "python",
   "name": "python3"
  },
  "language_info": {
   "codemirror_mode": {
    "name": "ipython",
    "version": 3
   },
   "file_extension": ".py",
   "mimetype": "text/x-python",
   "name": "python",
   "nbconvert_exporter": "python",
   "pygments_lexer": "ipython3",
   "version": "3.9.12"
  }
 },
 "nbformat": 4,
 "nbformat_minor": 5
}
