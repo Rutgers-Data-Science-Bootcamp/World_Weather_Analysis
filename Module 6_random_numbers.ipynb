{
 "cells": [
  {
   "cell_type": "markdown",
   "id": "27bec61d",
   "metadata": {},
   "source": [
    "# 6. 1. 4 Generate Random Latitudes and Longitudes"
   ]
  },
  {
   "cell_type": "code",
   "execution_count": 22,
   "id": "035b6f5d",
   "metadata": {},
   "outputs": [],
   "source": [
    "# To generate random numbers, we can use the Python \"random\" module. \n",
    "#This module is part of the Python and Anaconda installation, \n",
    "#so we don't need to install it. Let's test some \"random\" module functions to find one that can help us.\n",
    "# 4 methods to generate random numbers "
   ]
  },
  {
   "cell_type": "code",
   "execution_count": 4,
   "id": "366b31db",
   "metadata": {},
   "outputs": [],
   "source": [
    "import random"
   ]
  },
  {
   "cell_type": "code",
   "execution_count": 7,
   "id": "40d73e62",
   "metadata": {},
   "outputs": [
    {
     "data": {
      "text/plain": [
       "0.09322907372204703"
      ]
     },
     "execution_count": 7,
     "metadata": {},
     "output_type": "execute_result"
    }
   ],
   "source": [
    "random.random()"
   ]
  },
  {
   "cell_type": "code",
   "execution_count": 23,
   "id": "2e346acf",
   "metadata": {},
   "outputs": [
    {
     "data": {
      "text/plain": [
       "-47"
      ]
     },
     "execution_count": 23,
     "metadata": {},
     "output_type": "execute_result"
    }
   ],
   "source": [
    "random.randint(-90,90)"
   ]
  },
  {
   "cell_type": "code",
   "execution_count": 20,
   "id": "c6bd4df0",
   "metadata": {},
   "outputs": [
    {
     "data": {
      "text/plain": [
       "-7"
      ]
     },
     "execution_count": 20,
     "metadata": {},
     "output_type": "execute_result"
    }
   ],
   "source": [
    "random.randrange(- 9, 9, 2)"
   ]
  },
  {
   "cell_type": "code",
   "execution_count": 21,
   "id": "0846b79d",
   "metadata": {},
   "outputs": [
    {
     "data": {
      "text/plain": [
       "-0.04544785916570149"
      ]
     },
     "execution_count": 21,
     "metadata": {},
     "output_type": "execute_result"
    }
   ],
   "source": [
    "random.uniform(-10, 10)"
   ]
  },
  {
   "cell_type": "code",
   "execution_count": 25,
   "id": "c42583d6",
   "metadata": {},
   "outputs": [
    {
     "data": {
      "text/plain": [
       "34.282160641486634"
      ]
     },
     "execution_count": 25,
     "metadata": {},
     "output_type": "execute_result"
    }
   ],
   "source": [
    "random_number= random.randint(-90, 89)+ random.random()\n",
    "random_number"
   ]
  },
  {
   "cell_type": "code",
   "execution_count": 26,
   "id": "4a70035f",
   "metadata": {},
   "outputs": [],
   "source": [
    "# generate ten random floating-point decimal latitudes between -90 and 89"
   ]
  },
  {
   "cell_type": "code",
   "execution_count": 32,
   "id": "61f6c1fe",
   "metadata": {},
   "outputs": [],
   "source": [
    "x = 1\n",
    "latitudes = []\n",
    "while x < 11:\n",
    "    random_lat = random.randint(-90, 80)+ random.random()\n",
    "    latitudes.append(random_lat)\n",
    "    x += 1\n",
    "\n"
   ]
  },
  {
   "cell_type": "code",
   "execution_count": 35,
   "id": "13f23bbd",
   "metadata": {},
   "outputs": [
    {
     "data": {
      "text/plain": [
       "[-78.4527590803211,\n",
       " 76.01289050496122,\n",
       " 20.501575456862327,\n",
       " -57.32467440807119,\n",
       " -39.19222270801246,\n",
       " 7.43568817328164,\n",
       " 78.42781415638282,\n",
       " 42.38651110900642,\n",
       " -2.0233367518845857,\n",
       " -42.88103564810485]"
      ]
     },
     "execution_count": 35,
     "metadata": {},
     "output_type": "execute_result"
    }
   ],
   "source": [
    "latitudes"
   ]
  },
  {
   "cell_type": "code",
   "execution_count": 39,
   "id": "1f0b0852",
   "metadata": {},
   "outputs": [],
   "source": [
    "# generate ten random floating-point decimal longitudes between -180 and 180"
   ]
  },
  {
   "cell_type": "code",
   "execution_count": 40,
   "id": "0b05f699",
   "metadata": {},
   "outputs": [],
   "source": [
    "y = 1\n",
    "longitudes = []\n",
    "while y < 11:\n",
    "    random_lngs = random.randint(-180, 180)+random.random()\n",
    "    longitudes.append(random_lngs)\n",
    "    y +=1"
   ]
  },
  {
   "cell_type": "code",
   "execution_count": 41,
   "id": "29a0b303",
   "metadata": {},
   "outputs": [
    {
     "data": {
      "text/plain": [
       "[-151.42832672796732,\n",
       " -19.715224806732905,\n",
       " 68.3365451512419,\n",
       " 140.62858703791267,\n",
       " -57.528368492834815,\n",
       " 145.91827312088742,\n",
       " 94.25259474853554,\n",
       " 157.7293879813385,\n",
       " 131.65155450978835,\n",
       " -32.46407658316636]"
      ]
     },
     "execution_count": 41,
     "metadata": {},
     "output_type": "execute_result"
    }
   ],
   "source": [
    "longitudes"
   ]
  },
  {
   "cell_type": "code",
   "execution_count": 42,
   "id": "8d2ea05c",
   "metadata": {},
   "outputs": [],
   "source": [
    "# Let's try another function, the randrange() function."
   ]
  },
  {
   "cell_type": "markdown",
   "id": "1558ef38",
   "metadata": {},
   "source": [
    "## The randrange() Function"
   ]
  },
  {
   "cell_type": "code",
   "execution_count": 45,
   "id": "eb49f82b",
   "metadata": {},
   "outputs": [
    {
     "data": {
      "text/plain": [
       "49"
      ]
     },
     "execution_count": 45,
     "metadata": {},
     "output_type": "execute_result"
    }
   ],
   "source": [
    "random.randrange(-90, 90, step=1)"
   ]
  },
  {
   "cell_type": "code",
   "execution_count": 46,
   "id": "41920110",
   "metadata": {},
   "outputs": [
    {
     "data": {
      "text/plain": [
       "72"
      ]
     },
     "execution_count": 46,
     "metadata": {},
     "output_type": "execute_result"
    }
   ],
   "source": [
    "random.randrange(-90, 90, step=3)"
   ]
  },
  {
   "cell_type": "markdown",
   "id": "7e24f392",
   "metadata": {},
   "source": [
    "## The uniform() Function"
   ]
  },
  {
   "cell_type": "code",
   "execution_count": 47,
   "id": "15d9f5fc",
   "metadata": {},
   "outputs": [],
   "source": [
    "#to generate a floating-point decimal number between two given numbers inside the parentheses"
   ]
  },
  {
   "cell_type": "code",
   "execution_count": 48,
   "id": "ea2f9166",
   "metadata": {},
   "outputs": [
    {
     "data": {
      "text/plain": [
       "-38.82737883585677"
      ]
     },
     "execution_count": 48,
     "metadata": {},
     "output_type": "execute_result"
    }
   ],
   "source": [
    "random.uniform(-90, 90)"
   ]
  },
  {
   "cell_type": "markdown",
   "id": "a48564f2",
   "metadata": {},
   "source": [
    "## The NumPy and random Modules"
   ]
  },
  {
   "cell_type": "code",
   "execution_count": 49,
   "id": "77a7c560",
   "metadata": {},
   "outputs": [],
   "source": [
    "# Recall that the NumPy module is a numerical mathematics library that can be used to make arrays or matrices of numbers"
   ]
  },
  {
   "cell_type": "code",
   "execution_count": 50,
   "id": "7179451f",
   "metadata": {},
   "outputs": [],
   "source": [
    "# Import the NumPy module.\n",
    "import numpy as np"
   ]
  },
  {
   "cell_type": "code",
   "execution_count": 51,
   "id": "5322a431",
   "metadata": {},
   "outputs": [
    {
     "data": {
      "text/plain": [
       "23.4630732377708"
      ]
     },
     "execution_count": 51,
     "metadata": {},
     "output_type": "execute_result"
    }
   ],
   "source": [
    "np.random.uniform(-90.000, 90.000)"
   ]
  },
  {
   "cell_type": "code",
   "execution_count": 52,
   "id": "37484f8e",
   "metadata": {},
   "outputs": [
    {
     "data": {
      "text/plain": [
       "array([ -6.59895139,  19.15763348,  57.53797784,  84.54457424,\n",
       "        86.02428036, -42.90741774,  65.0799544 ,  21.94630442,\n",
       "        -5.743504  , -15.98123442, -62.70004711, -72.45619518,\n",
       "        49.70623951, -28.07294454, -77.61136501, -54.00185022,\n",
       "       -57.11233539, -33.25867222, -59.98809706,  16.92718009,\n",
       "       -59.11643001,   5.08063842,  53.67528293, -76.66694673,\n",
       "        80.78837552, -82.97648452, -85.26882228, -37.12424385,\n",
       "        29.05777998, -20.00702875,  85.68597385, -78.72160897,\n",
       "       -38.85500142, -38.97814573, -23.06246045, -21.86813647,\n",
       "       -46.46327823,  61.63319184,  53.22293217,  84.98672099,\n",
       "       -62.12002913,   6.28619072, -84.67139774,  33.2799806 ,\n",
       "        80.86735725, -44.95501766,  16.0250153 , -86.61172107,\n",
       "        -6.16949454,  19.921799  ])"
      ]
     },
     "execution_count": 52,
     "metadata": {},
     "output_type": "execute_result"
    }
   ],
   "source": [
    "np.random.uniform(-90.000, 90.000, size=50)"
   ]
  },
  {
   "cell_type": "code",
   "execution_count": 53,
   "id": "28e1ebf0",
   "metadata": {},
   "outputs": [],
   "source": [
    "#To test how long a piece of code or function takes to run, \n",
    "#we can import the \"timeit\" module and \n",
    "#use the %timeit magic command when we run our code or call the function."
   ]
  },
  {
   "cell_type": "code",
   "execution_count": 54,
   "id": "5c4c7e72",
   "metadata": {},
   "outputs": [],
   "source": [
    "# Import timeit.\n",
    "import timeit"
   ]
  },
  {
   "cell_type": "code",
   "execution_count": 55,
   "id": "5a0e053a",
   "metadata": {},
   "outputs": [
    {
     "name": "stdout",
     "output_type": "stream",
     "text": [
      "12.6 µs ± 34.4 ns per loop (mean ± std. dev. of 7 runs, 100,000 loops each)\n"
     ]
    }
   ],
   "source": [
    "%timeit np.random.uniform(-90.000, 90.000, size=1500)"
   ]
  },
  {
   "cell_type": "code",
   "execution_count": 56,
   "id": "4f89cadf",
   "metadata": {},
   "outputs": [],
   "source": [
    "# Now, let's run the while loop as a function. Copy the following code in a new cell and run the cell."
   ]
  },
  {
   "cell_type": "code",
   "execution_count": 57,
   "id": "d5e1657d",
   "metadata": {},
   "outputs": [
    {
     "name": "stdout",
     "output_type": "stream",
     "text": [
      "1.11 ms ± 5.12 µs per loop (mean ± std. dev. of 7 runs, 1,000 loops each)\n"
     ]
    }
   ],
   "source": [
    "def latitudes(size):\n",
    "    latitudes = []\n",
    "    x = 0\n",
    "    while x < (size):\n",
    "        random_lat = random.randint(-90, 90) + random.random()\n",
    "        latitudes.append(random_lat)\n",
    "        x += 1\n",
    "    return latitudes\n",
    "# Call the function with 1500.\n",
    "%timeit latitudes(1500)"
   ]
  },
  {
   "cell_type": "markdown",
   "id": "9b6175d6",
   "metadata": {},
   "source": [
    "# Skill Drill "
   ]
  },
  {
   "cell_type": "code",
   "execution_count": 58,
   "id": "a450f183",
   "metadata": {},
   "outputs": [],
   "source": [
    "# Refactor the code for the while loop with the %timeit magic command and \n",
    "#write a for loop that will generate the 1,500 latitudes."
   ]
  },
  {
   "cell_type": "code",
   "execution_count": 60,
   "id": "0d8ee3f3",
   "metadata": {},
   "outputs": [
    {
     "name": "stdout",
     "output_type": "stream",
     "text": [
      "1.13 ms ± 2.13 µs per loop (mean ± std. dev. of 7 runs, 1,000 loops each)\n"
     ]
    }
   ],
   "source": [
    "def longitudes(size):\n",
    "    longitudes = []\n",
    "    x = 0\n",
    "    while x < (size):\n",
    "        random_lngs = random.randint(-180, 180) + random.random()\n",
    "        longitudes.append(random_lngs)\n",
    "        x += 1\n",
    "    return longitudes\n",
    "# Call the function with 1500.\n",
    "%timeit longitudes(1500)"
   ]
  },
  {
   "cell_type": "markdown",
   "id": "1d0dd912",
   "metadata": {},
   "source": [
    "## Create Latitude and Longitude Combinations"
   ]
  },
  {
   "cell_type": "code",
   "execution_count": null,
   "id": "eebe6d4e",
   "metadata": {},
   "outputs": [],
   "source": [
    "# creat a new notebook names as WeatherPy.ipynb"
   ]
  }
 ],
 "metadata": {
  "kernelspec": {
   "display_name": "PythonData",
   "language": "python",
   "name": "pythondata"
  },
  "language_info": {
   "codemirror_mode": {
    "name": "ipython",
    "version": 3
   },
   "file_extension": ".py",
   "mimetype": "text/x-python",
   "name": "python",
   "nbconvert_exporter": "python",
   "pygments_lexer": "ipython3",
   "version": "3.9.12"
  }
 },
 "nbformat": 4,
 "nbformat_minor": 5
}
